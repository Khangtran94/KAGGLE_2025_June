{
 "cells": [
  {
   "cell_type": "code",
   "execution_count": 29,
   "id": "34a5a37f",
   "metadata": {},
   "outputs": [
    {
     "data": {
      "application/vnd.microsoft.datawrangler.viewer.v0+json": {
       "columns": [
        {
         "name": "id",
         "rawType": "int64",
         "type": "integer"
        },
        {
         "name": "Temparature",
         "rawType": "int64",
         "type": "integer"
        },
        {
         "name": "Humidity",
         "rawType": "int64",
         "type": "integer"
        },
        {
         "name": "Moisture",
         "rawType": "int64",
         "type": "integer"
        },
        {
         "name": "Soil Type",
         "rawType": "object",
         "type": "string"
        },
        {
         "name": "Crop Type",
         "rawType": "object",
         "type": "string"
        },
        {
         "name": "Nitrogen",
         "rawType": "int64",
         "type": "integer"
        },
        {
         "name": "Potassium",
         "rawType": "int64",
         "type": "integer"
        },
        {
         "name": "Phosphorous",
         "rawType": "int64",
         "type": "integer"
        },
        {
         "name": "Fertilizer Name",
         "rawType": "object",
         "type": "string"
        }
       ],
       "ref": "7f62b1f0-04b4-47b8-9ca2-c9ab95f5b530",
       "rows": [
        [
         "0",
         "37",
         "70",
         "36",
         "Clayey",
         "Sugarcane",
         "36",
         "4",
         "5",
         "28-28"
        ],
        [
         "1",
         "27",
         "69",
         "65",
         "Sandy",
         "Millets",
         "30",
         "6",
         "18",
         "28-28"
        ],
        [
         "2",
         "29",
         "63",
         "32",
         "Sandy",
         "Millets",
         "24",
         "12",
         "16",
         "17-17-17"
        ],
        [
         "3",
         "35",
         "62",
         "54",
         "Sandy",
         "Barley",
         "39",
         "12",
         "4",
         "10-26-26"
        ],
        [
         "4",
         "35",
         "58",
         "43",
         "Red",
         "Paddy",
         "37",
         "2",
         "16",
         "DAP"
        ],
        [
         "5",
         "30",
         "59",
         "29",
         "Red",
         "Pulses",
         "10",
         "0",
         "9",
         "20-20"
        ],
        [
         "6",
         "27",
         "62",
         "53",
         "Sandy",
         "Paddy",
         "26",
         "15",
         "22",
         "28-28"
        ],
        [
         "7",
         "36",
         "62",
         "44",
         "Red",
         "Pulses",
         "30",
         "12",
         "35",
         "14-35-14"
        ],
        [
         "8",
         "36",
         "51",
         "32",
         "Loamy",
         "Tobacco",
         "19",
         "17",
         "29",
         "17-17-17"
        ],
        [
         "9",
         "28",
         "50",
         "35",
         "Red",
         "Tobacco",
         "25",
         "12",
         "16",
         "20-20"
        ],
        [
         "10",
         "32",
         "61",
         "60",
         "Loamy",
         "Tobacco",
         "18",
         "3",
         "2",
         "17-17-17"
        ],
        [
         "11",
         "38",
         "60",
         "27",
         "Clayey",
         "Sugarcane",
         "34",
         "19",
         "12",
         "20-20"
        ],
        [
         "12",
         "26",
         "69",
         "42",
         "Sandy",
         "Pulses",
         "42",
         "12",
         "19",
         "10-26-26"
        ],
        [
         "13",
         "30",
         "60",
         "57",
         "Clayey",
         "Millets",
         "41",
         "6",
         "39",
         "10-26-26"
        ],
        [
         "14",
         "36",
         "60",
         "44",
         "Sandy",
         "Paddy",
         "15",
         "3",
         "30",
         "20-20"
        ],
        [
         "15",
         "34",
         "57",
         "47",
         "Black",
         "Barley",
         "18",
         "16",
         "32",
         "10-26-26"
        ],
        [
         "16",
         "30",
         "63",
         "50",
         "Loamy",
         "Ground Nuts",
         "4",
         "1",
         "19",
         "28-28"
        ],
        [
         "17",
         "29",
         "57",
         "56",
         "Red",
         "Maize",
         "8",
         "12",
         "34",
         "14-35-14"
        ],
        [
         "18",
         "27",
         "70",
         "43",
         "Sandy",
         "Millets",
         "19",
         "13",
         "40",
         "17-17-17"
        ],
        [
         "19",
         "25",
         "72",
         "33",
         "Clayey",
         "Millets",
         "6",
         "7",
         "32",
         "20-20"
        ],
        [
         "20",
         "26",
         "63",
         "37",
         "Sandy",
         "Paddy",
         "39",
         "1",
         "28",
         "Urea"
        ],
        [
         "21",
         "26",
         "70",
         "49",
         "Red",
         "Sugarcane",
         "31",
         "9",
         "18",
         "Urea"
        ],
        [
         "22",
         "33",
         "60",
         "60",
         "Red",
         "Sugarcane",
         "29",
         "7",
         "33",
         "10-26-26"
        ],
        [
         "23",
         "30",
         "68",
         "49",
         "Clayey",
         "Cotton",
         "36",
         "16",
         "29",
         "28-28"
        ],
        [
         "24",
         "30",
         "55",
         "53",
         "Sandy",
         "Paddy",
         "20",
         "19",
         "12",
         "28-28"
        ],
        [
         "25",
         "26",
         "68",
         "54",
         "Loamy",
         "Tobacco",
         "41",
         "15",
         "33",
         "20-20"
        ],
        [
         "26",
         "26",
         "52",
         "35",
         "Black",
         "Wheat",
         "28",
         "14",
         "0",
         "20-20"
        ],
        [
         "27",
         "26",
         "55",
         "39",
         "Sandy",
         "Paddy",
         "15",
         "2",
         "7",
         "17-17-17"
        ],
        [
         "28",
         "32",
         "55",
         "30",
         "Loamy",
         "Oil seeds",
         "10",
         "7",
         "13",
         "17-17-17"
        ],
        [
         "29",
         "37",
         "69",
         "57",
         "Clayey",
         "Millets",
         "17",
         "8",
         "24",
         "DAP"
        ],
        [
         "30",
         "27",
         "57",
         "43",
         "Sandy",
         "Maize",
         "8",
         "15",
         "28",
         "20-20"
        ],
        [
         "31",
         "29",
         "60",
         "46",
         "Loamy",
         "Pulses",
         "27",
         "14",
         "21",
         "10-26-26"
        ],
        [
         "32",
         "30",
         "64",
         "37",
         "Clayey",
         "Wheat",
         "10",
         "18",
         "27",
         "20-20"
        ],
        [
         "33",
         "38",
         "55",
         "29",
         "Clayey",
         "Cotton",
         "7",
         "11",
         "40",
         "14-35-14"
        ],
        [
         "34",
         "31",
         "64",
         "61",
         "Black",
         "Oil seeds",
         "15",
         "3",
         "21",
         "14-35-14"
        ],
        [
         "35",
         "27",
         "71",
         "64",
         "Loamy",
         "Tobacco",
         "12",
         "5",
         "2",
         "17-17-17"
        ],
        [
         "36",
         "27",
         "56",
         "26",
         "Black",
         "Cotton",
         "27",
         "5",
         "0",
         "10-26-26"
        ],
        [
         "37",
         "27",
         "50",
         "42",
         "Clayey",
         "Pulses",
         "29",
         "1",
         "5",
         "DAP"
        ],
        [
         "38",
         "32",
         "57",
         "35",
         "Black",
         "Paddy",
         "6",
         "15",
         "21",
         "14-35-14"
        ],
        [
         "39",
         "34",
         "60",
         "32",
         "Clayey",
         "Barley",
         "31",
         "7",
         "17",
         "Urea"
        ],
        [
         "40",
         "29",
         "51",
         "47",
         "Black",
         "Oil seeds",
         "14",
         "3",
         "26",
         "10-26-26"
        ],
        [
         "41",
         "33",
         "51",
         "30",
         "Loamy",
         "Pulses",
         "25",
         "7",
         "1",
         "17-17-17"
        ],
        [
         "42",
         "37",
         "59",
         "34",
         "Clayey",
         "Ground Nuts",
         "39",
         "17",
         "19",
         "14-35-14"
        ],
        [
         "43",
         "37",
         "69",
         "32",
         "Clayey",
         "Tobacco",
         "25",
         "13",
         "19",
         "DAP"
        ],
        [
         "44",
         "26",
         "52",
         "56",
         "Sandy",
         "Paddy",
         "19",
         "14",
         "30",
         "DAP"
        ],
        [
         "45",
         "28",
         "66",
         "33",
         "Clayey",
         "Ground Nuts",
         "26",
         "4",
         "17",
         "17-17-17"
        ],
        [
         "46",
         "25",
         "62",
         "33",
         "Sandy",
         "Maize",
         "35",
         "2",
         "1",
         "28-28"
        ],
        [
         "47",
         "28",
         "54",
         "56",
         "Red",
         "Wheat",
         "33",
         "3",
         "36",
         "17-17-17"
        ],
        [
         "48",
         "31",
         "65",
         "47",
         "Loamy",
         "Wheat",
         "9",
         "17",
         "1",
         "17-17-17"
        ],
        [
         "49",
         "34",
         "67",
         "29",
         "Red",
         "Paddy",
         "25",
         "3",
         "29",
         "10-26-26"
        ]
       ],
       "shape": {
        "columns": 9,
        "rows": 750000
       }
      },
      "text/html": [
       "<div>\n",
       "<style scoped>\n",
       "    .dataframe tbody tr th:only-of-type {\n",
       "        vertical-align: middle;\n",
       "    }\n",
       "\n",
       "    .dataframe tbody tr th {\n",
       "        vertical-align: top;\n",
       "    }\n",
       "\n",
       "    .dataframe thead th {\n",
       "        text-align: right;\n",
       "    }\n",
       "</style>\n",
       "<table border=\"1\" class=\"dataframe\">\n",
       "  <thead>\n",
       "    <tr style=\"text-align: right;\">\n",
       "      <th></th>\n",
       "      <th>Temparature</th>\n",
       "      <th>Humidity</th>\n",
       "      <th>Moisture</th>\n",
       "      <th>Soil Type</th>\n",
       "      <th>Crop Type</th>\n",
       "      <th>Nitrogen</th>\n",
       "      <th>Potassium</th>\n",
       "      <th>Phosphorous</th>\n",
       "      <th>Fertilizer Name</th>\n",
       "    </tr>\n",
       "    <tr>\n",
       "      <th>id</th>\n",
       "      <th></th>\n",
       "      <th></th>\n",
       "      <th></th>\n",
       "      <th></th>\n",
       "      <th></th>\n",
       "      <th></th>\n",
       "      <th></th>\n",
       "      <th></th>\n",
       "      <th></th>\n",
       "    </tr>\n",
       "  </thead>\n",
       "  <tbody>\n",
       "    <tr>\n",
       "      <th>0</th>\n",
       "      <td>37</td>\n",
       "      <td>70</td>\n",
       "      <td>36</td>\n",
       "      <td>Clayey</td>\n",
       "      <td>Sugarcane</td>\n",
       "      <td>36</td>\n",
       "      <td>4</td>\n",
       "      <td>5</td>\n",
       "      <td>28-28</td>\n",
       "    </tr>\n",
       "    <tr>\n",
       "      <th>1</th>\n",
       "      <td>27</td>\n",
       "      <td>69</td>\n",
       "      <td>65</td>\n",
       "      <td>Sandy</td>\n",
       "      <td>Millets</td>\n",
       "      <td>30</td>\n",
       "      <td>6</td>\n",
       "      <td>18</td>\n",
       "      <td>28-28</td>\n",
       "    </tr>\n",
       "    <tr>\n",
       "      <th>2</th>\n",
       "      <td>29</td>\n",
       "      <td>63</td>\n",
       "      <td>32</td>\n",
       "      <td>Sandy</td>\n",
       "      <td>Millets</td>\n",
       "      <td>24</td>\n",
       "      <td>12</td>\n",
       "      <td>16</td>\n",
       "      <td>17-17-17</td>\n",
       "    </tr>\n",
       "    <tr>\n",
       "      <th>3</th>\n",
       "      <td>35</td>\n",
       "      <td>62</td>\n",
       "      <td>54</td>\n",
       "      <td>Sandy</td>\n",
       "      <td>Barley</td>\n",
       "      <td>39</td>\n",
       "      <td>12</td>\n",
       "      <td>4</td>\n",
       "      <td>10-26-26</td>\n",
       "    </tr>\n",
       "    <tr>\n",
       "      <th>4</th>\n",
       "      <td>35</td>\n",
       "      <td>58</td>\n",
       "      <td>43</td>\n",
       "      <td>Red</td>\n",
       "      <td>Paddy</td>\n",
       "      <td>37</td>\n",
       "      <td>2</td>\n",
       "      <td>16</td>\n",
       "      <td>DAP</td>\n",
       "    </tr>\n",
       "    <tr>\n",
       "      <th>...</th>\n",
       "      <td>...</td>\n",
       "      <td>...</td>\n",
       "      <td>...</td>\n",
       "      <td>...</td>\n",
       "      <td>...</td>\n",
       "      <td>...</td>\n",
       "      <td>...</td>\n",
       "      <td>...</td>\n",
       "      <td>...</td>\n",
       "    </tr>\n",
       "    <tr>\n",
       "      <th>749995</th>\n",
       "      <td>25</td>\n",
       "      <td>69</td>\n",
       "      <td>30</td>\n",
       "      <td>Clayey</td>\n",
       "      <td>Maize</td>\n",
       "      <td>8</td>\n",
       "      <td>16</td>\n",
       "      <td>6</td>\n",
       "      <td>28-28</td>\n",
       "    </tr>\n",
       "    <tr>\n",
       "      <th>749996</th>\n",
       "      <td>37</td>\n",
       "      <td>64</td>\n",
       "      <td>58</td>\n",
       "      <td>Loamy</td>\n",
       "      <td>Sugarcane</td>\n",
       "      <td>38</td>\n",
       "      <td>8</td>\n",
       "      <td>20</td>\n",
       "      <td>17-17-17</td>\n",
       "    </tr>\n",
       "    <tr>\n",
       "      <th>749997</th>\n",
       "      <td>35</td>\n",
       "      <td>68</td>\n",
       "      <td>59</td>\n",
       "      <td>Sandy</td>\n",
       "      <td>Ground Nuts</td>\n",
       "      <td>6</td>\n",
       "      <td>11</td>\n",
       "      <td>29</td>\n",
       "      <td>10-26-26</td>\n",
       "    </tr>\n",
       "    <tr>\n",
       "      <th>749998</th>\n",
       "      <td>31</td>\n",
       "      <td>68</td>\n",
       "      <td>29</td>\n",
       "      <td>Red</td>\n",
       "      <td>Cotton</td>\n",
       "      <td>9</td>\n",
       "      <td>11</td>\n",
       "      <td>12</td>\n",
       "      <td>20-20</td>\n",
       "    </tr>\n",
       "    <tr>\n",
       "      <th>749999</th>\n",
       "      <td>33</td>\n",
       "      <td>55</td>\n",
       "      <td>29</td>\n",
       "      <td>Loamy</td>\n",
       "      <td>Cotton</td>\n",
       "      <td>4</td>\n",
       "      <td>10</td>\n",
       "      <td>9</td>\n",
       "      <td>Urea</td>\n",
       "    </tr>\n",
       "  </tbody>\n",
       "</table>\n",
       "<p>750000 rows × 9 columns</p>\n",
       "</div>"
      ],
      "text/plain": [
       "        Temparature  Humidity  Moisture Soil Type    Crop Type  Nitrogen  \\\n",
       "id                                                                         \n",
       "0                37        70        36    Clayey    Sugarcane        36   \n",
       "1                27        69        65     Sandy      Millets        30   \n",
       "2                29        63        32     Sandy      Millets        24   \n",
       "3                35        62        54     Sandy       Barley        39   \n",
       "4                35        58        43       Red        Paddy        37   \n",
       "...             ...       ...       ...       ...          ...       ...   \n",
       "749995           25        69        30    Clayey        Maize         8   \n",
       "749996           37        64        58     Loamy    Sugarcane        38   \n",
       "749997           35        68        59     Sandy  Ground Nuts         6   \n",
       "749998           31        68        29       Red       Cotton         9   \n",
       "749999           33        55        29     Loamy       Cotton         4   \n",
       "\n",
       "        Potassium  Phosphorous Fertilizer Name  \n",
       "id                                              \n",
       "0               4            5           28-28  \n",
       "1               6           18           28-28  \n",
       "2              12           16        17-17-17  \n",
       "3              12            4        10-26-26  \n",
       "4               2           16             DAP  \n",
       "...           ...          ...             ...  \n",
       "749995         16            6           28-28  \n",
       "749996          8           20        17-17-17  \n",
       "749997         11           29        10-26-26  \n",
       "749998         11           12           20-20  \n",
       "749999         10            9            Urea  \n",
       "\n",
       "[750000 rows x 9 columns]"
      ]
     },
     "execution_count": 29,
     "metadata": {},
     "output_type": "execute_result"
    }
   ],
   "source": [
    "import numpy as np\n",
    "import pandas as pd\n",
    "import matplotlib.pyplot as plt\n",
    "import seaborn as sns\n",
    "\n",
    "train = pd.read_csv('train.csv')\n",
    "test = pd.read_csv('test.csv')\n",
    "train = train.set_index('id')\n",
    "train"
   ]
  },
  {
   "cell_type": "code",
   "execution_count": 30,
   "id": "bd701236",
   "metadata": {},
   "outputs": [
    {
     "name": "stdout",
     "output_type": "stream",
     "text": [
      "Train dataset has 750000 rows.\n",
      "Test dataset has 250000 rows.\n"
     ]
    }
   ],
   "source": [
    "print(f\"Train dataset has {train.shape[0]} rows.\")\n",
    "print(f\"Test dataset has {test.shape[0]} rows.\")"
   ]
  },
  {
   "cell_type": "markdown",
   "id": "bcd5a1ae",
   "metadata": {},
   "source": [
    "# Data Visualization:"
   ]
  },
  {
   "cell_type": "code",
   "execution_count": 31,
   "id": "841dca62",
   "metadata": {},
   "outputs": [
    {
     "name": "stdout",
     "output_type": "stream",
     "text": [
      "Numerical features: ['Temparature', 'Humidity', 'Moisture', 'Nitrogen', 'Potassium', 'Phosphorous']\n",
      "Categorical features: ['Soil Type', 'Crop Type']\n",
      "Target column: Fertilizer Name\n"
     ]
    }
   ],
   "source": [
    "target = train.columns[-1]  # Assuming the last column is the target variable\n",
    "num_features = [col for col in train.select_dtypes(exclude='object').columns if col != target]\n",
    "cat_features = [col for col in train.select_dtypes(include='object').columns if col != target]\n",
    "print(\"Numerical features:\", num_features)\n",
    "print(\"Categorical features:\", cat_features)\n",
    "print(\"Target column:\", target)"
   ]
  },
  {
   "cell_type": "markdown",
   "id": "69828c44",
   "metadata": {},
   "source": [
    "## Mutual Information:"
   ]
  },
  {
   "cell_type": "code",
   "execution_count": 32,
   "id": "c7ef29df",
   "metadata": {},
   "outputs": [
    {
     "data": {
      "image/png": "[encoded data removed]",
      "text/plain": [
       "<Figure size 800x600 with 1 Axes>"
      ]
     },
     "metadata": {},
     "output_type": "display_data"
    }
   ],
   "source": [
    "from sklearn.preprocessing import LabelEncoder\n",
    "from sklearn.feature_selection import mutual_info_classif\n",
    "\n",
    "\n",
    "# Copy the original data\n",
    "X = train[num_features + cat_features].copy()\n",
    "\n",
    "# Encode categorical features\n",
    "for col in cat_features:\n",
    "    le = LabelEncoder()\n",
    "    X[col] = le.fit_transform(X[col].astype(str))\n",
    "\n",
    "# Target\n",
    "y = train[target]\n",
    "\n",
    "# Build discrete_features mask (True for categorical columns)\n",
    "discrete_mask = [col in cat_features for col in X.columns]\n",
    "\n",
    "# Calculate mutual information\n",
    "mi_scores = mutual_info_classif(X, y, discrete_features=discrete_mask, random_state=0)\n",
    "\n",
    "# Sort and plot\n",
    "import seaborn as sns\n",
    "import matplotlib.pyplot as plt\n",
    "import pandas as pd\n",
    "\n",
    "mi_df = pd.Series(mi_scores, index=X.columns).sort_values(ascending=False)\n",
    "\n",
    "plt.figure(figsize=(8, 6))\n",
    "sns.barplot(x=mi_df.values, y=mi_df.index, orient='h')\n",
    "plt.title('Mutual Information between Features and Target')\n",
    "plt.xlabel('Mutual Information Score')\n",
    "plt.ylabel('Feature')\n",
    "plt.tight_layout()\n",
    "plt.show()\n"
   ]
  },
  {
   "cell_type": "markdown",
   "id": "82111b29",
   "metadata": {},
   "source": [
    "## Categorical Features:"
   ]
  },
  {
   "cell_type": "code",
   "execution_count": 33,
   "id": "67118499",
   "metadata": {},
   "outputs": [
    {
     "data": {
      "image/png": "[encoded data removed]",
      "text/plain": [
       "<Figure size 2100x600 with 4 Axes>"
      ]
     },
     "metadata": {},
     "output_type": "display_data"
    }
   ],
   "source": [
    "fig, axes = plt.subplots(1, 3, figsize=(21, 6))\n",
    "\n",
    "# Pie charts for categorical features\n",
    "for i, col in enumerate(cat_features):\n",
    "    value_counts = train[col].value_counts()\n",
    "    axes[i].pie(value_counts, labels=value_counts.index, autopct='%1.1f%%', startangle=140)\n",
    "    axes[i].set_title(f'Pie Chart of {col}')\n",
    "    axes[i].axis('equal')\n",
    "\n",
    "cross_tab = pd.crosstab(train[cat_features[0]], train[cat_features[1]])\n",
    "\n",
    "# Heatmap for relationship between two categorical features\n",
    "sns.heatmap(cross_tab, ax=axes[2], cmap='YlGnBu', cbar=True)\n",
    "axes[2].set_title(f'{cat_features[0]} vs {cat_features[1]} (Heatmap)')\n",
    "axes[2].set_xlabel(cat_features[1])\n",
    "axes[2].set_ylabel(cat_features[0])\n",
    "\n",
    "plt.tight_layout()\n",
    "plt.show()\n"
   ]
  },
  {
   "cell_type": "markdown",
   "id": "c83d07b7",
   "metadata": {},
   "source": [
    "## Numerical Features:"
   ]
  },
  {
   "cell_type": "code",
   "execution_count": 34,
   "id": "7e03fd02",
   "metadata": {},
   "outputs": [
    {
     "data": {
      "image/png": "[encoded data removed]",
      "text/plain": [
       "<Figure size 800x600 with 2 Axes>"
      ]
     },
     "metadata": {},
     "output_type": "display_data"
    }
   ],
   "source": [
    "# Compute Pearson correlation for numerical features\n",
    "pearson_corr = train[num_features].corr(method='pearson')\n",
    "\n",
    "fig_corr, ax_corr = plt.subplots(figsize=(8, 6))\n",
    "\n",
    "# Mask for the lower triangle\n",
    "mask = np.triu(np.ones_like(pearson_corr, dtype=bool))\n",
    "\n",
    "sns.heatmap(pearson_corr, annot=True, cmap='coolwarm', mask=mask, ax=ax_corr, vmin=0, vmax=1)\n",
    "ax_corr.set_title('Pearson Correlation Heatmap (Upper Triangle Only)')\n",
    "\n",
    "plt.tight_layout()\n",
    "plt.show()"
   ]
  },
  {
   "cell_type": "code",
   "execution_count": 35,
   "id": "3924d630",
   "metadata": {},
   "outputs": [
    {
     "data": {
      "application/vnd.microsoft.datawrangler.viewer.v0+json": {
       "columns": [
        {
         "name": "id",
         "rawType": "int64",
         "type": "integer"
        },
        {
         "name": "Temparature",
         "rawType": "int64",
         "type": "integer"
        },
        {
         "name": "Humidity",
         "rawType": "int64",
         "type": "integer"
        },
        {
         "name": "Moisture",
         "rawType": "int64",
         "type": "integer"
        },
        {
         "name": "Soil Type",
         "rawType": "object",
         "type": "string"
        },
        {
         "name": "Crop Type",
         "rawType": "object",
         "type": "string"
        },
        {
         "name": "Nitrogen",
         "rawType": "int64",
         "type": "integer"
        },
        {
         "name": "Potassium",
         "rawType": "int64",
         "type": "integer"
        },
        {
         "name": "Phosphorous",
         "rawType": "int64",
         "type": "integer"
        },
        {
         "name": "Fertilizer Name",
         "rawType": "object",
         "type": "string"
        },
        {
         "name": "NPK",
         "rawType": "int64",
         "type": "integer"
        },
        {
         "name": "Nitrogen_pct",
         "rawType": "float64",
         "type": "float"
        },
        {
         "name": "Potassium_pct",
         "rawType": "float64",
         "type": "float"
        },
        {
         "name": "Phosphorous_pct",
         "rawType": "float64",
         "type": "float"
        }
       ],
       "ref": "d7c0d25d-4164-4b66-b0c7-6ea151a42cc3",
       "rows": [
        [
         "0",
         "37",
         "70",
         "36",
         "Clayey",
         "Sugarcane",
         "36",
         "4",
         "5",
         "28-28",
         "45",
         "80.0",
         "8.88888888888889",
         "11.11111111111111"
        ],
        [
         "1",
         "27",
         "69",
         "65",
         "Sandy",
         "Millets",
         "30",
         "6",
         "18",
         "28-28",
         "54",
         "55.55555555555556",
         "11.11111111111111",
         "33.33333333333333"
        ],
        [
         "2",
         "29",
         "63",
         "32",
         "Sandy",
         "Millets",
         "24",
         "12",
         "16",
         "17-17-17",
         "52",
         "46.15384615384615",
         "23.076923076923077",
         "30.76923076923077"
        ],
        [
         "3",
         "35",
         "62",
         "54",
         "Sandy",
         "Barley",
         "39",
         "12",
         "4",
         "10-26-26",
         "55",
         "70.9090909090909",
         "21.818181818181817",
         "7.2727272727272725"
        ],
        [
         "4",
         "35",
         "58",
         "43",
         "Red",
         "Paddy",
         "37",
         "2",
         "16",
         "DAP",
         "55",
         "67.27272727272727",
         "3.6363636363636362",
         "29.09090909090909"
        ]
       ],
       "shape": {
        "columns": 13,
        "rows": 5
       }
      },
      "text/html": [
       "<div>\n",
       "<style scoped>\n",
       "    .dataframe tbody tr th:only-of-type {\n",
       "        vertical-align: middle;\n",
       "    }\n",
       "\n",
       "    .dataframe tbody tr th {\n",
       "        vertical-align: top;\n",
       "    }\n",
       "\n",
       "    .dataframe thead th {\n",
       "        text-align: right;\n",
       "    }\n",
       "</style>\n",
       "<table border=\"1\" class=\"dataframe\">\n",
       "  <thead>\n",
       "    <tr style=\"text-align: right;\">\n",
       "      <th></th>\n",
       "      <th>Temparature</th>\n",
       "      <th>Humidity</th>\n",
       "      <th>Moisture</th>\n",
       "      <th>Soil Type</th>\n",
       "      <th>Crop Type</th>\n",
       "      <th>Nitrogen</th>\n",
       "      <th>Potassium</th>\n",
       "      <th>Phosphorous</th>\n",
       "      <th>Fertilizer Name</th>\n",
       "      <th>NPK</th>\n",
       "      <th>Nitrogen_pct</th>\n",
       "      <th>Potassium_pct</th>\n",
       "      <th>Phosphorous_pct</th>\n",
       "    </tr>\n",
       "    <tr>\n",
       "      <th>id</th>\n",
       "      <th></th>\n",
       "      <th></th>\n",
       "      <th></th>\n",
       "      <th></th>\n",
       "      <th></th>\n",
       "      <th></th>\n",
       "      <th></th>\n",
       "      <th></th>\n",
       "      <th></th>\n",
       "      <th></th>\n",
       "      <th></th>\n",
       "      <th></th>\n",
       "      <th></th>\n",
       "    </tr>\n",
       "  </thead>\n",
       "  <tbody>\n",
       "    <tr>\n",
       "      <th>0</th>\n",
       "      <td>37</td>\n",
       "      <td>70</td>\n",
       "      <td>36</td>\n",
       "      <td>Clayey</td>\n",
       "      <td>Sugarcane</td>\n",
       "      <td>36</td>\n",
       "      <td>4</td>\n",
       "      <td>5</td>\n",
       "      <td>28-28</td>\n",
       "      <td>45</td>\n",
       "      <td>80.000000</td>\n",
       "      <td>8.888889</td>\n",
       "      <td>11.111111</td>\n",
       "    </tr>\n",
       "    <tr>\n",
       "      <th>1</th>\n",
       "      <td>27</td>\n",
       "      <td>69</td>\n",
       "      <td>65</td>\n",
       "      <td>Sandy</td>\n",
       "      <td>Millets</td>\n",
       "      <td>30</td>\n",
       "      <td>6</td>\n",
       "      <td>18</td>\n",
       "      <td>28-28</td>\n",
       "      <td>54</td>\n",
       "      <td>55.555556</td>\n",
       "      <td>11.111111</td>\n",
       "      <td>33.333333</td>\n",
       "    </tr>\n",
       "    <tr>\n",
       "      <th>2</th>\n",
       "      <td>29</td>\n",
       "      <td>63</td>\n",
       "      <td>32</td>\n",
       "      <td>Sandy</td>\n",
       "      <td>Millets</td>\n",
       "      <td>24</td>\n",
       "      <td>12</td>\n",
       "      <td>16</td>\n",
       "      <td>17-17-17</td>\n",
       "      <td>52</td>\n",
       "      <td>46.153846</td>\n",
       "      <td>23.076923</td>\n",
       "      <td>30.769231</td>\n",
       "    </tr>\n",
       "    <tr>\n",
       "      <th>3</th>\n",
       "      <td>35</td>\n",
       "      <td>62</td>\n",
       "      <td>54</td>\n",
       "      <td>Sandy</td>\n",
       "      <td>Barley</td>\n",
       "      <td>39</td>\n",
       "      <td>12</td>\n",
       "      <td>4</td>\n",
       "      <td>10-26-26</td>\n",
       "      <td>55</td>\n",
       "      <td>70.909091</td>\n",
       "      <td>21.818182</td>\n",
       "      <td>7.272727</td>\n",
       "    </tr>\n",
       "    <tr>\n",
       "      <th>4</th>\n",
       "      <td>35</td>\n",
       "      <td>58</td>\n",
       "      <td>43</td>\n",
       "      <td>Red</td>\n",
       "      <td>Paddy</td>\n",
       "      <td>37</td>\n",
       "      <td>2</td>\n",
       "      <td>16</td>\n",
       "      <td>DAP</td>\n",
       "      <td>55</td>\n",
       "      <td>67.272727</td>\n",
       "      <td>3.636364</td>\n",
       "      <td>29.090909</td>\n",
       "    </tr>\n",
       "  </tbody>\n",
       "</table>\n",
       "</div>"
      ],
      "text/plain": [
       "    Temparature  Humidity  Moisture Soil Type  Crop Type  Nitrogen  Potassium  \\\n",
       "id                                                                              \n",
       "0            37        70        36    Clayey  Sugarcane        36          4   \n",
       "1            27        69        65     Sandy    Millets        30          6   \n",
       "2            29        63        32     Sandy    Millets        24         12   \n",
       "3            35        62        54     Sandy     Barley        39         12   \n",
       "4            35        58        43       Red      Paddy        37          2   \n",
       "\n",
       "    Phosphorous Fertilizer Name  NPK  Nitrogen_pct  Potassium_pct  \\\n",
       "id                                                                  \n",
       "0             5           28-28   45     80.000000       8.888889   \n",
       "1            18           28-28   54     55.555556      11.111111   \n",
       "2            16        17-17-17   52     46.153846      23.076923   \n",
       "3             4        10-26-26   55     70.909091      21.818182   \n",
       "4            16             DAP   55     67.272727       3.636364   \n",
       "\n",
       "    Phosphorous_pct  \n",
       "id                   \n",
       "0         11.111111  \n",
       "1         33.333333  \n",
       "2         30.769231  \n",
       "3          7.272727  \n",
       "4         29.090909  "
      ]
     },
     "execution_count": 35,
     "metadata": {},
     "output_type": "execute_result"
    }
   ],
   "source": [
    "def add_npk_and_percentages(df, num_features):\n",
    "    # Sum the last 3 columns in num_features to create NPK\n",
    "    last3 = num_features[-3:]\n",
    "    df['NPK'] = df[last3].sum(axis=1)\n",
    "    # Calculate percentage for each last 3 column\n",
    "    for col in last3:\n",
    "        df[f'{col}_pct'] = df[col] / df['NPK'] * 100\n",
    "    return df\n",
    "\n",
    "# Example usage:\n",
    "train = add_npk_and_percentages(train, num_features)\n",
    "train.head()"
   ]
  },
  {
   "cell_type": "code",
   "execution_count": 36,
   "id": "5e9b7134",
   "metadata": {},
   "outputs": [
    {
     "data": {
      "application/vnd.microsoft.datawrangler.viewer.v0+json": {
       "columns": [
        {
         "name": "id",
         "rawType": "int64",
         "type": "integer"
        },
        {
         "name": "Majority",
         "rawType": "object",
         "type": "string"
        },
        {
         "name": "Nitrogen_pct",
         "rawType": "float64",
         "type": "float"
        },
        {
         "name": "Potassium_pct",
         "rawType": "float64",
         "type": "float"
        },
        {
         "name": "Phosphorous_pct",
         "rawType": "float64",
         "type": "float"
        }
       ],
       "ref": "79422f77-25e1-4102-a54c-6af2977f7672",
       "rows": [
        [
         "0",
         "Nitrogen",
         "80.0",
         "8.88888888888889",
         "11.11111111111111"
        ],
        [
         "1",
         "Nitrogen",
         "55.55555555555556",
         "11.11111111111111",
         "33.33333333333333"
        ],
        [
         "2",
         "Nitrogen",
         "46.15384615384615",
         "23.076923076923077",
         "30.76923076923077"
        ],
        [
         "3",
         "Nitrogen",
         "70.9090909090909",
         "21.818181818181817",
         "7.2727272727272725"
        ],
        [
         "4",
         "Nitrogen",
         "67.27272727272727",
         "3.6363636363636362",
         "29.09090909090909"
        ]
       ],
       "shape": {
        "columns": 4,
        "rows": 5
       }
      },
      "text/html": [
       "<div>\n",
       "<style scoped>\n",
       "    .dataframe tbody tr th:only-of-type {\n",
       "        vertical-align: middle;\n",
       "    }\n",
       "\n",
       "    .dataframe tbody tr th {\n",
       "        vertical-align: top;\n",
       "    }\n",
       "\n",
       "    .dataframe thead th {\n",
       "        text-align: right;\n",
       "    }\n",
       "</style>\n",
       "<table border=\"1\" class=\"dataframe\">\n",
       "  <thead>\n",
       "    <tr style=\"text-align: right;\">\n",
       "      <th></th>\n",
       "      <th>Majority</th>\n",
       "      <th>Nitrogen_pct</th>\n",
       "      <th>Potassium_pct</th>\n",
       "      <th>Phosphorous_pct</th>\n",
       "    </tr>\n",
       "    <tr>\n",
       "      <th>id</th>\n",
       "      <th></th>\n",
       "      <th></th>\n",
       "      <th></th>\n",
       "      <th></th>\n",
       "    </tr>\n",
       "  </thead>\n",
       "  <tbody>\n",
       "    <tr>\n",
       "      <th>0</th>\n",
       "      <td>Nitrogen</td>\n",
       "      <td>80.000000</td>\n",
       "      <td>8.888889</td>\n",
       "      <td>11.111111</td>\n",
       "    </tr>\n",
       "    <tr>\n",
       "      <th>1</th>\n",
       "      <td>Nitrogen</td>\n",
       "      <td>55.555556</td>\n",
       "      <td>11.111111</td>\n",
       "      <td>33.333333</td>\n",
       "    </tr>\n",
       "    <tr>\n",
       "      <th>2</th>\n",
       "      <td>Nitrogen</td>\n",
       "      <td>46.153846</td>\n",
       "      <td>23.076923</td>\n",
       "      <td>30.769231</td>\n",
       "    </tr>\n",
       "    <tr>\n",
       "      <th>3</th>\n",
       "      <td>Nitrogen</td>\n",
       "      <td>70.909091</td>\n",
       "      <td>21.818182</td>\n",
       "      <td>7.272727</td>\n",
       "    </tr>\n",
       "    <tr>\n",
       "      <th>4</th>\n",
       "      <td>Nitrogen</td>\n",
       "      <td>67.272727</td>\n",
       "      <td>3.636364</td>\n",
       "      <td>29.090909</td>\n",
       "    </tr>\n",
       "  </tbody>\n",
       "</table>\n",
       "</div>"
      ],
      "text/plain": [
       "    Majority  Nitrogen_pct  Potassium_pct  Phosphorous_pct\n",
       "id                                                        \n",
       "0   Nitrogen     80.000000       8.888889        11.111111\n",
       "1   Nitrogen     55.555556      11.111111        33.333333\n",
       "2   Nitrogen     46.153846      23.076923        30.769231\n",
       "3   Nitrogen     70.909091      21.818182         7.272727\n",
       "4   Nitrogen     67.272727       3.636364        29.090909"
      ]
     },
     "execution_count": 36,
     "metadata": {},
     "output_type": "execute_result"
    }
   ],
   "source": [
    "last3_cols = train.columns[-3:]\n",
    "majority_col = train[last3_cols].idxmax(axis=1).str.replace('_pct', '')\n",
    "train['Majority'] = majority_col\n",
    "train[['Majority'] + list(last3_cols)].head()"
   ]
  },
  {
   "cell_type": "code",
   "execution_count": 37,
   "id": "4a6dfef3",
   "metadata": {},
   "outputs": [
    {
     "data": {
      "text/plain": [
       "<matplotlib.legend.Legend at 0x27baa520b80>"
      ]
     },
     "execution_count": 37,
     "metadata": {},
     "output_type": "execute_result"
    },
    {
     "data": {
      "image/png": "[encoded data removed]",
      "text/plain": [
       "<Figure size 1000x600 with 1 Axes>"
      ]
     },
     "metadata": {},
     "output_type": "display_data"
    }
   ],
   "source": [
    "majority_by_target_counts = train.groupby([target, 'Majority']).size().unstack(fill_value=0)\n",
    "majority_by_target_pct = majority_by_target_counts.div(majority_by_target_counts.sum(axis=1), axis=0)\n",
    "\n",
    "majority_by_target_pct.plot(kind='bar', stacked=True, figsize=(10,6), colormap='tab20')\n",
    "plt.title('100% Stacked Column Plot of Fertilizer Name by Majority Nutrient')\n",
    "plt.xlabel('Fertilizer Name')\n",
    "plt.ylabel('Proportion')\n",
    "plt.legend(title='Majority', bbox_to_anchor=(1.05, 1), loc='upper left')"
   ]
  },
  {
   "cell_type": "code",
   "execution_count": 38,
   "id": "d10264f1",
   "metadata": {},
   "outputs": [
    {
     "name": "stderr",
     "output_type": "stream",
     "text": [
      "C:\\Users\\ktran\\AppData\\Local\\Temp\\ipykernel_21152\\2013719050.py:7: UserWarning:\n",
      "\n",
      "No artists with labels found to put in legend.  Note that artists whose label start with an underscore are ignored when legend() is called with no argument.\n",
      "\n"
     ]
    },
    {
     "data": {
      "image/png": "[encoded data removed]",
      "text/plain": [
       "<Figure size 1200x600 with 1 Axes>"
      ]
     },
     "metadata": {},
     "output_type": "display_data"
    },
    {
     "name": "stderr",
     "output_type": "stream",
     "text": [
      "C:\\Users\\ktran\\AppData\\Local\\Temp\\ipykernel_21152\\2013719050.py:7: UserWarning:\n",
      "\n",
      "No artists with labels found to put in legend.  Note that artists whose label start with an underscore are ignored when legend() is called with no argument.\n",
      "\n"
     ]
    },
    {
     "data": {
      "image/png": "[encoded data removed]",
      "text/plain": [
       "<Figure size 1200x600 with 1 Axes>"
      ]
     },
     "metadata": {},
     "output_type": "display_data"
    },
    {
     "name": "stderr",
     "output_type": "stream",
     "text": [
      "C:\\Users\\ktran\\AppData\\Local\\Temp\\ipykernel_21152\\2013719050.py:7: UserWarning:\n",
      "\n",
      "No artists with labels found to put in legend.  Note that artists whose label start with an underscore are ignored when legend() is called with no argument.\n",
      "\n"
     ]
    },
    {
     "data": {
      "image/png": "[encoded data removed]",
      "text/plain": [
       "<Figure size 1200x600 with 1 Axes>"
      ]
     },
     "metadata": {},
     "output_type": "display_data"
    }
   ],
   "source": [
    "for cat_col in cat_features + [target]:\n",
    "    plt.figure(figsize=(12, 6))\n",
    "    sns.boxenplot(x=cat_col, y='Moisture', hue=cat_col, data=train)\n",
    "    plt.title(f\"Violin Plot of Moisture by {cat_col}\")\n",
    "    plt.xlabel(cat_col)\n",
    "    plt.ylabel(\"Moisture\")\n",
    "    plt.legend(title=cat_col, bbox_to_anchor=(1.05, 1), loc='upper left')\n",
    "    plt.tight_layout()\n",
    "    plt.show()"
   ]
  },
  {
   "cell_type": "code",
   "execution_count": 39,
   "id": "fc1789be",
   "metadata": {},
   "outputs": [
    {
     "data": {
      "image/png": "[encoded data removed]",
      "text/plain": [
       "<Figure size 1000x600 with 1 Axes>"
      ]
     },
     "metadata": {},
     "output_type": "display_data"
    },
    {
     "data": {
      "image/png": "[encoded data removed]",
      "text/plain": [
       "<Figure size 1000x600 with 1 Axes>"
      ]
     },
     "metadata": {},
     "output_type": "display_data"
    }
   ],
   "source": [
    "for col in cat_features:\n",
    "    counts = train.groupby([col, target]).size().unstack(fill_value=0)\n",
    "    pct = counts.div(counts.sum(axis=1), axis=0)\n",
    "    ax = pct.plot(kind='bar', stacked=True, figsize=(10,6), colormap='tab20')\n",
    "    plt.title(f'100% Stacked Column Plot of {col} by {target}')\n",
    "    plt.xlabel(col)\n",
    "    plt.ylabel('Proportion')\n",
    "    plt.legend(title=target, bbox_to_anchor=(1.05, 1), loc='upper left')\n",
    "    plt.tight_layout()\n",
    "    # Add annotation\n",
    "    for p in ax.patches:\n",
    "        height = p.get_height()\n",
    "        if height > 0.01:  # Only annotate if the bar is visible\n",
    "            ax.annotate(f'{height*100:.2f}%', \n",
    "                        (p.get_x() + p.get_width() / 2, p.get_y() + height / 2),\n",
    "                        ha='center', va='center', fontsize=9, color='black')\n",
    "    plt.show()"
   ]
  },
  {
   "cell_type": "code",
   "execution_count": 40,
   "id": "64cdee38",
   "metadata": {},
   "outputs": [
    {
     "data": {
      "image/png": "[encoded data removed]",
      "text/plain": [
       "<Figure size 800x800 with 1 Axes>"
      ]
     },
     "metadata": {},
     "output_type": "display_data"
    }
   ],
   "source": [
    "# Pie plot of the target variable (Fertilizer Name)\n",
    "target_counts = train[target].value_counts()\n",
    "plt.figure(figsize=(8, 8))\n",
    "plt.pie(target_counts, labels=target_counts.index, autopct='%1.1f%%', startangle=140)\n",
    "plt.title(f'Pie Chart of {target}')\n",
    "plt.axis('equal')\n",
    "plt.show()"
   ]
  },
  {
   "cell_type": "code",
   "execution_count": 41,
   "id": "28dfb347",
   "metadata": {},
   "outputs": [
    {
     "data": {
      "application/vnd.plotly.v1+json": {
       "config": {
        "plotlyServerURL": "https://plot.ly"
       },
       "data": [
        {
         "legendgroup": "10-26-26",
         "line": {
          "color": "#00CC96",
          "shape": "spline"
         },
         "mode": "lines+markers",
         "name": "10-26-26",
         "showlegend": true,
         "type": "scatter",
         "x": [
          "Black",
          "Clayey",
          "Loamy",
          "Red",
          "Sandy"
         ],
         "xaxis": "x",
         "y": {
          "bdata": "AAAAAAAAAEAAAAAAAADwPwAAAAAAAPA/AAAAAAAACEAAAAAAAAAUQA==",
          "dtype": "f8"
         },
         "yaxis": "y"
        },
        {
         "legendgroup": "14-35-14",
         "line": {
          "color": "#19D3F3",
          "shape": "spline"
         },
         "mode": "lines+markers",
         "name": "14-35-14",
         "showlegend": true,
         "type": "scatter",
         "x": [
          "Black",
          "Clayey",
          "Loamy",
          "Red",
          "Sandy"
         ],
         "xaxis": "x",
         "y": {
          "bdata": "AAAAAAAA8D8AAAAAAAAUQAAAAAAAAABAAAAAAAAA8D8AAAAAAAAAQA==",
          "dtype": "f8"
         },
         "yaxis": "y"
        },
        {
         "legendgroup": "17-17-17",
         "line": {
          "color": "#EF553B",
          "shape": "spline"
         },
         "mode": "lines+markers",
         "name": "17-17-17",
         "showlegend": true,
         "type": "scatter",
         "x": [
          "Black",
          "Clayey",
          "Loamy",
          "Red",
          "Sandy"
         ],
         "xaxis": "x",
         "y": {
          "bdata": "AAAAAAAACEAAAAAAAAAAQAAAAAAAAAhAAAAAAAAAAEAAAAAAAAAIQA==",
          "dtype": "f8"
         },
         "yaxis": "y"
        },
        {
         "legendgroup": "20-20",
         "line": {
          "color": "#FFA15A",
          "shape": "spline"
         },
         "mode": "lines+markers",
         "name": "20-20",
         "showlegend": true,
         "type": "scatter",
         "x": [
          "Black",
          "Clayey",
          "Loamy",
          "Red",
          "Sandy"
         ],
         "xaxis": "x",
         "y": {
          "bdata": "AAAAAAAAEEAAAAAAAAAQQAAAAAAAABBAAAAAAAAAFEAAAAAAAAAQQA==",
          "dtype": "f8"
         },
         "yaxis": "y"
        },
        {
         "legendgroup": "28-28",
         "line": {
          "color": "#636EFA",
          "shape": "spline"
         },
         "mode": "lines+markers",
         "name": "28-28",
         "showlegend": true,
         "type": "scatter",
         "x": [
          "Black",
          "Clayey",
          "Loamy",
          "Red",
          "Sandy"
         ],
         "xaxis": "x",
         "y": {
          "bdata": "AAAAAAAAFEAAAAAAAAAIQAAAAAAAABRAAAAAAAAAEEAAAAAAAADwPw==",
          "dtype": "f8"
         },
         "yaxis": "y"
        },
        {
         "legendgroup": "DAP",
         "line": {
          "color": "#AB63FA",
          "shape": "spline"
         },
         "mode": "lines+markers",
         "name": "DAP",
         "showlegend": true,
         "type": "scatter",
         "x": [
          "Black",
          "Clayey",
          "Loamy",
          "Red",
          "Sandy"
         ],
         "xaxis": "x",
         "y": {
          "bdata": "AAAAAAAAGEAAAAAAAAAYQAAAAAAAABhAAAAAAAAAHEAAAAAAAAAYQA==",
          "dtype": "f8"
         },
         "yaxis": "y"
        },
        {
         "legendgroup": "Urea",
         "line": {
          "color": "#FF6692",
          "shape": "spline"
         },
         "mode": "lines+markers",
         "name": "Urea",
         "showlegend": true,
         "type": "scatter",
         "x": [
          "Black",
          "Clayey",
          "Loamy",
          "Red",
          "Sandy"
         ],
         "xaxis": "x",
         "y": {
          "bdata": "AAAAAAAAHEAAAAAAAAAcQAAAAAAAABxAAAAAAAAAGEAAAAAAAAAcQA==",
          "dtype": "f8"
         },
         "yaxis": "y"
        },
        {
         "legendgroup": "10-26-26",
         "marker": {
          "color": "#00CC96"
         },
         "name": "10-26-26",
         "showlegend": false,
         "type": "bar",
         "x": [
          "10-26-26"
         ],
         "xaxis": "x2",
         "y": [
          4
         ],
         "yaxis": "y2"
        },
        {
         "legendgroup": "14-35-14",
         "marker": {
          "color": "#19D3F3"
         },
         "name": "14-35-14",
         "showlegend": false,
         "type": "bar",
         "x": [
          "14-35-14"
         ],
         "xaxis": "x2",
         "y": [
          4
         ],
         "yaxis": "y2"
        },
        {
         "legendgroup": "17-17-17",
         "marker": {
          "color": "#EF553B"
         },
         "name": "17-17-17",
         "showlegend": false,
         "type": "bar",
         "x": [
          "17-17-17"
         ],
         "xaxis": "x2",
         "y": [
          5
         ],
         "yaxis": "y2"
        },
        {
         "legendgroup": "20-20",
         "marker": {
          "color": "#FFA15A"
         },
         "name": "20-20",
         "showlegend": false,
         "type": "bar",
         "x": [
          "20-20"
         ],
         "xaxis": "x2",
         "y": [
          0
         ],
         "yaxis": "y2"
        },
        {
         "legendgroup": "28-28",
         "marker": {
          "color": "#636EFA"
         },
         "name": "28-28",
         "showlegend": false,
         "type": "bar",
         "x": [
          "28-28"
         ],
         "xaxis": "x2",
         "y": [
          2
         ],
         "yaxis": "y2"
        },
        {
         "legendgroup": "DAP",
         "marker": {
          "color": "#AB63FA"
         },
         "name": "DAP",
         "showlegend": false,
         "type": "bar",
         "x": [
          "DAP"
         ],
         "xaxis": "x2",
         "y": [
          0
         ],
         "yaxis": "y2"
        },
        {
         "legendgroup": "Urea",
         "marker": {
          "color": "#FF6692"
         },
         "name": "Urea",
         "showlegend": false,
         "type": "bar",
         "x": [
          "Urea"
         ],
         "xaxis": "x2",
         "y": [
          0
         ],
         "yaxis": "y2"
        },
        {
         "legendgroup": "10-26-26",
         "line": {
          "color": "#00CC96",
          "shape": "spline"
         },
         "mode": "lines+markers",
         "name": "10-26-26",
         "showlegend": false,
         "type": "scatter",
         "x": [
          "Barley",
          "Cotton",
          "Ground Nuts",
          "Maize",
          "Millets",
          "Oil seeds",
          "Paddy",
          "Pulses",
          "Sugarcane",
          "Tobacco",
          "Wheat"
         ],
         "xaxis": "x3",
         "y": {
          "bdata": "AAAAAAAAFEAAAAAAAAAAQAAAAAAAABRAAAAAAAAA8D8AAAAAAAAUQAAAAAAAAAhAAAAAAAAAAEAAAAAAAAAQQAAAAAAAAABAAAAAAAAA8D8AAAAAAADwPw==",
          "dtype": "f8"
         },
         "yaxis": "y3"
        },
        {
         "legendgroup": "14-35-14",
         "line": {
          "color": "#19D3F3",
          "shape": "spline"
         },
         "mode": "lines+markers",
         "name": "14-35-14",
         "showlegend": false,
         "type": "scatter",
         "x": [
          "Barley",
          "Cotton",
          "Ground Nuts",
          "Maize",
          "Millets",
          "Oil seeds",
          "Paddy",
          "Pulses",
          "Sugarcane",
          "Tobacco",
          "Wheat"
         ],
         "xaxis": "x3",
         "y": {
          "bdata": "AAAAAAAAAEAAAAAAAAAQQAAAAAAAAABAAAAAAAAAAEAAAAAAAADwPwAAAAAAAPA/AAAAAAAAEEAAAAAAAAAAQAAAAAAAAPA/AAAAAAAACEAAAAAAAAAQQA==",
          "dtype": "f8"
         },
         "yaxis": "y3"
        },
        {
         "legendgroup": "17-17-17",
         "line": {
          "color": "#EF553B",
          "shape": "spline"
         },
         "mode": "lines+markers",
         "name": "17-17-17",
         "showlegend": false,
         "type": "scatter",
         "x": [
          "Barley",
          "Cotton",
          "Ground Nuts",
          "Maize",
          "Millets",
          "Oil seeds",
          "Paddy",
          "Pulses",
          "Sugarcane",
          "Tobacco",
          "Wheat"
         ],
         "xaxis": "x3",
         "y": {
          "bdata": "AAAAAAAA8D8AAAAAAADwPwAAAAAAAAhAAAAAAAAAEEAAAAAAAAAQQAAAAAAAABRAAAAAAAAACEAAAAAAAADwPwAAAAAAABBAAAAAAAAAAEAAAAAAAAAIQA==",
          "dtype": "f8"
         },
         "yaxis": "y3"
        },
        {
         "legendgroup": "20-20",
         "line": {
          "color": "#FFA15A",
          "shape": "spline"
         },
         "mode": "lines+markers",
         "name": "20-20",
         "showlegend": false,
         "type": "scatter",
         "x": [
          "Barley",
          "Cotton",
          "Ground Nuts",
          "Maize",
          "Millets",
          "Oil seeds",
          "Paddy",
          "Pulses",
          "Sugarcane",
          "Tobacco",
          "Wheat"
         ],
         "xaxis": "x3",
         "y": {
          "bdata": "AAAAAAAAEEAAAAAAAAAIQAAAAAAAABBAAAAAAAAAFEAAAAAAAAAIQAAAAAAAABBAAAAAAAAAGEAAAAAAAAAIQAAAAAAAAAhAAAAAAAAAFEAAAAAAAAAAQA==",
          "dtype": "f8"
         },
         "yaxis": "y3"
        },
        {
         "legendgroup": "28-28",
         "line": {
          "color": "#636EFA",
          "shape": "spline"
         },
         "mode": "lines+markers",
         "name": "28-28",
         "showlegend": false,
         "type": "scatter",
         "x": [
          "Barley",
          "Cotton",
          "Ground Nuts",
          "Maize",
          "Millets",
          "Oil seeds",
          "Paddy",
          "Pulses",
          "Sugarcane",
          "Tobacco",
          "Wheat"
         ],
         "xaxis": "x3",
         "y": {
          "bdata": "AAAAAAAACEAAAAAAAAAUQAAAAAAAAPA/AAAAAAAACEAAAAAAAAAAQAAAAAAAAABAAAAAAAAA8D8AAAAAAAAUQAAAAAAAABRAAAAAAAAAEEAAAAAAAAAYQA==",
          "dtype": "f8"
         },
         "yaxis": "y3"
        },
        {
         "legendgroup": "DAP",
         "line": {
          "color": "#AB63FA",
          "shape": "spline"
         },
         "mode": "lines+markers",
         "name": "DAP",
         "showlegend": false,
         "type": "scatter",
         "x": [
          "Barley",
          "Cotton",
          "Ground Nuts",
          "Maize",
          "Millets",
          "Oil seeds",
          "Paddy",
          "Pulses",
          "Sugarcane",
          "Tobacco",
          "Wheat"
         ],
         "xaxis": "x3",
         "y": {
          "bdata": "AAAAAAAAHEAAAAAAAAAYQAAAAAAAABxAAAAAAAAAHEAAAAAAAAAcQAAAAAAAABhAAAAAAAAAFEAAAAAAAAAYQAAAAAAAABhAAAAAAAAAGEAAAAAAAAAUQA==",
          "dtype": "f8"
         },
         "yaxis": "y3"
        },
        {
         "legendgroup": "Urea",
         "line": {
          "color": "#FF6692",
          "shape": "spline"
         },
         "mode": "lines+markers",
         "name": "Urea",
         "showlegend": false,
         "type": "scatter",
         "x": [
          "Barley",
          "Cotton",
          "Ground Nuts",
          "Maize",
          "Millets",
          "Oil seeds",
          "Paddy",
          "Pulses",
          "Sugarcane",
          "Tobacco",
          "Wheat"
         ],
         "xaxis": "x3",
         "y": {
          "bdata": "AAAAAAAAGEAAAAAAAAAcQAAAAAAAABhAAAAAAAAAGEAAAAAAAAAYQAAAAAAAABxAAAAAAAAAHEAAAAAAAAAcQAAAAAAAABxAAAAAAAAAHEAAAAAAAAAcQA==",
          "dtype": "f8"
         },
         "yaxis": "y3"
        },
        {
         "legendgroup": "10-26-26",
         "marker": {
          "color": "#00CC96"
         },
         "name": "10-26-26",
         "showlegend": false,
         "type": "bar",
         "x": [
          "10-26-26"
         ],
         "xaxis": "x4",
         "y": [
          7
         ],
         "yaxis": "y4"
        },
        {
         "legendgroup": "14-35-14",
         "marker": {
          "color": "#19D3F3"
         },
         "name": "14-35-14",
         "showlegend": false,
         "type": "bar",
         "x": [
          "14-35-14"
         ],
         "xaxis": "x4",
         "y": [
          8
         ],
         "yaxis": "y4"
        },
        {
         "legendgroup": "17-17-17",
         "marker": {
          "color": "#EF553B"
         },
         "name": "17-17-17",
         "showlegend": false,
         "type": "bar",
         "x": [
          "17-17-17"
         ],
         "xaxis": "x4",
         "y": [
          7
         ],
         "yaxis": "y4"
        },
        {
         "legendgroup": "20-20",
         "marker": {
          "color": "#FFA15A"
         },
         "name": "20-20",
         "showlegend": false,
         "type": "bar",
         "x": [
          "20-20"
         ],
         "xaxis": "x4",
         "y": [
          5
         ],
         "yaxis": "y4"
        },
        {
         "legendgroup": "28-28",
         "marker": {
          "color": "#636EFA"
         },
         "name": "28-28",
         "showlegend": false,
         "type": "bar",
         "x": [
          "28-28"
         ],
         "xaxis": "x4",
         "y": [
          6
         ],
         "yaxis": "y4"
        },
        {
         "legendgroup": "DAP",
         "marker": {
          "color": "#AB63FA"
         },
         "name": "DAP",
         "showlegend": false,
         "type": "bar",
         "x": [
          "DAP"
         ],
         "xaxis": "x4",
         "y": [
          0
         ],
         "yaxis": "y4"
        },
        {
         "legendgroup": "Urea",
         "marker": {
          "color": "#FF6692"
         },
         "name": "Urea",
         "showlegend": false,
         "type": "bar",
         "x": [
          "Urea"
         ],
         "xaxis": "x4",
         "y": [
          0
         ],
         "yaxis": "y4"
        }
       ],
       "layout": {
        "annotations": [
         {
          "font": {
           "size": 16
          },
          "showarrow": false,
          "text": "Ribbon Chart - Soil Type",
          "x": 0.2125,
          "xanchor": "center",
          "xref": "paper",
          "y": 1,
          "yanchor": "bottom",
          "yref": "paper"
         },
         {
          "font": {
           "size": 16
          },
          "showarrow": false,
          "text": "Top 3 Count - Soil Type",
          "x": 0.7875,
          "xanchor": "center",
          "xref": "paper",
          "y": 1,
          "yanchor": "bottom",
          "yref": "paper"
         },
         {
          "font": {
           "size": 16
          },
          "showarrow": false,
          "text": "Ribbon Chart - Crop Type",
          "x": 0.2125,
          "xanchor": "center",
          "xref": "paper",
          "y": 0.425,
          "yanchor": "bottom",
          "yref": "paper"
         },
         {
          "font": {
           "size": 16
          },
          "showarrow": false,
          "text": "Top 3 Count - Crop Type",
          "x": 0.7875,
          "xanchor": "center",
          "xref": "paper",
          "y": 0.425,
          "yanchor": "bottom",
          "yref": "paper"
         }
        ],
        "height": 800,
        "legend": {
         "bgcolor": "rgba(255,255,255,0.8)",
         "bordercolor": "black",
         "borderwidth": 1,
         "orientation": "v",
         "x": 0.47,
         "xanchor": "center",
         "y": 0.5,
         "yanchor": "middle"
        },
        "shapes": [
         {
          "fillcolor": "LightGreen",
          "layer": "below",
          "line": {
           "width": 0
          },
          "opacity": 0.3,
          "type": "rect",
          "x0": "Black",
          "x1": "Sandy",
          "xref": "x",
          "y0": 1,
          "y1": 3,
          "yref": "y"
         },
         {
          "fillcolor": "LightGreen",
          "layer": "below",
          "line": {
           "width": 0
          },
          "opacity": 0.3,
          "type": "rect",
          "x0": "Barley",
          "x1": "Wheat",
          "xref": "x3",
          "y0": 1,
          "y1": 3,
          "yref": "y3"
         }
        ],
        "template": {
         "data": {
          "bar": [
           {
            "error_x": {
             "color": "#2a3f5f"
            },
            "error_y": {
             "color": "#2a3f5f"
            },
            "marker": {
             "line": {
              "color": "#E5ECF6",
              "width": 0.5
             },
             "pattern": {
              "fillmode": "overlay",
              "size": 10,
              "solidity": 0.2
             }
            },
            "type": "bar"
           }
          ],
          "barpolar": [
           {
            "marker": {
             "line": {
              "color": "#E5ECF6",
              "width": 0.5
             },
             "pattern": {
              "fillmode": "overlay",
              "size": 10,
              "solidity": 0.2
             }
            },
            "type": "barpolar"
           }
          ],
          "carpet": [
           {
            "aaxis": {
             "endlinecolor": "#2a3f5f",
             "gridcolor": "white",
             "linecolor": "white",
             "minorgridcolor": "white",
             "startlinecolor": "#2a3f5f"
            },
            "baxis": {
             "endlinecolor": "#2a3f5f",
             "gridcolor": "white",
             "linecolor": "white",
             "minorgridcolor": "white",
             "startlinecolor": "#2a3f5f"
            },
            "type": "carpet"
           }
          ],
          "choropleth": [
           {
            "colorbar": {
             "outlinewidth": 0,
             "ticks": ""
            },
            "type": "choropleth"
           }
          ],
          "contour": [
           {
            "colorbar": {
             "outlinewidth": 0,
             "ticks": ""
            },
            "colorscale": [
             [
              0,
              "#0d0887"
             ],
             [
              0.1111111111111111,
              "#46039f"
             ],
             [
              0.2222222222222222,
              "#7201a8"
             ],
             [
              0.3333333333333333,
              "#9c179e"
             ],
             [
              0.4444444444444444,
              "#bd3786"
             ],
             [
              0.5555555555555556,
              "#d8576b"
             ],
             [
              0.6666666666666666,
              "#ed7953"
             ],
             [
              0.7777777777777778,
              "#fb9f3a"
             ],
             [
              0.8888888888888888,
              "#fdca26"
             ],
             [
              1,
              "#f0f921"
             ]
            ],
            "type": "contour"
           }
          ],
          "contourcarpet": [
           {
            "colorbar": {
             "outlinewidth": 0,
             "ticks": ""
            },
            "type": "contourcarpet"
           }
          ],
          "heatmap": [
           {
            "colorbar": {
             "outlinewidth": 0,
             "ticks": ""
            },
            "colorscale": [
             [
              0,
              "#0d0887"
             ],
             [
              0.1111111111111111,
              "#46039f"
             ],
             [
              0.2222222222222222,
              "#7201a8"
             ],
             [
              0.3333333333333333,
              "#9c179e"
             ],
             [
              0.4444444444444444,
              "#bd3786"
             ],
             [
              0.5555555555555556,
              "#d8576b"
             ],
             [
              0.6666666666666666,
              "#ed7953"
             ],
             [
              0.7777777777777778,
              "#fb9f3a"
             ],
             [
              0.8888888888888888,
              "#fdca26"
             ],
             [
              1,
              "#f0f921"
             ]
            ],
            "type": "heatmap"
           }
          ],
          "histogram": [
           {
            "marker": {
             "pattern": {
              "fillmode": "overlay",
              "size": 10,
              "solidity": 0.2
             }
            },
            "type": "histogram"
           }
          ],
          "histogram2d": [
           {
            "colorbar": {
             "outlinewidth": 0,
             "ticks": ""
            },
            "colorscale": [
             [
              0,
              "#0d0887"
             ],
             [
              0.1111111111111111,
              "#46039f"
             ],
             [
              0.2222222222222222,
              "#7201a8"
             ],
             [
              0.3333333333333333,
              "#9c179e"
             ],
             [
              0.4444444444444444,
              "#bd3786"
             ],
             [
              0.5555555555555556,
              "#d8576b"
             ],
             [
              0.6666666666666666,
              "#ed7953"
             ],
             [
              0.7777777777777778,
              "#fb9f3a"
             ],
             [
              0.8888888888888888,
              "#fdca26"
             ],
             [
              1,
              "#f0f921"
             ]
            ],
            "type": "histogram2d"
           }
          ],
          "histogram2dcontour": [
           {
            "colorbar": {
             "outlinewidth": 0,
             "ticks": ""
            },
            "colorscale": [
             [
              0,
              "#0d0887"
             ],
             [
              0.1111111111111111,
              "#46039f"
             ],
             [
              0.2222222222222222,
              "#7201a8"
             ],
             [
              0.3333333333333333,
              "#9c179e"
             ],
             [
              0.4444444444444444,
              "#bd3786"
             ],
             [
              0.5555555555555556,
              "#d8576b"
             ],
             [
              0.6666666666666666,
              "#ed7953"
             ],
             [
              0.7777777777777778,
              "#fb9f3a"
             ],
             [
              0.8888888888888888,
              "#fdca26"
             ],
             [
              1,
              "#f0f921"
             ]
            ],
            "type": "histogram2dcontour"
           }
          ],
          "mesh3d": [
           {
            "colorbar": {
             "outlinewidth": 0,
             "ticks": ""
            },
            "type": "mesh3d"
           }
          ],
          "parcoords": [
           {
            "line": {
             "colorbar": {
              "outlinewidth": 0,
              "ticks": ""
             }
            },
            "type": "parcoords"
           }
          ],
          "pie": [
           {
            "automargin": true,
            "type": "pie"
           }
          ],
          "scatter": [
           {
            "fillpattern": {
             "fillmode": "overlay",
             "size": 10,
             "solidity": 0.2
            },
            "type": "scatter"
           }
          ],
          "scatter3d": [
           {
            "line": {
             "colorbar": {
              "outlinewidth": 0,
              "ticks": ""
             }
            },
            "marker": {
             "colorbar": {
              "outlinewidth": 0,
              "ticks": ""
             }
            },
            "type": "scatter3d"
           }
          ],
          "scattercarpet": [
           {
            "marker": {
             "colorbar": {
              "outlinewidth": 0,
              "ticks": ""
             }
            },
            "type": "scattercarpet"
           }
          ],
          "scattergeo": [
           {
            "marker": {
             "colorbar": {
              "outlinewidth": 0,
              "ticks": ""
             }
            },
            "type": "scattergeo"
           }
          ],
          "scattergl": [
           {
            "marker": {
             "colorbar": {
              "outlinewidth": 0,
              "ticks": ""
             }
            },
            "type": "scattergl"
           }
          ],
          "scattermap": [
           {
            "marker": {
             "colorbar": {
              "outlinewidth": 0,
              "ticks": ""
             }
            },
            "type": "scattermap"
           }
          ],
          "scattermapbox": [
           {
            "marker": {
             "colorbar": {
              "outlinewidth": 0,
              "ticks": ""
             }
            },
            "type": "scattermapbox"
           }
          ],
          "scatterpolar": [
           {
            "marker": {
             "colorbar": {
              "outlinewidth": 0,
              "ticks": ""
             }
            },
            "type": "scatterpolar"
           }
          ],
          "scatterpolargl": [
           {
            "marker": {
             "colorbar": {
              "outlinewidth": 0,
              "ticks": ""
             }
            },
            "type": "scatterpolargl"
           }
          ],
          "scatterternary": [
           {
            "marker": {
             "colorbar": {
              "outlinewidth": 0,
              "ticks": ""
             }
            },
            "type": "scatterternary"
           }
          ],
          "surface": [
           {
            "colorbar": {
             "outlinewidth": 0,
             "ticks": ""
            },
            "colorscale": [
             [
              0,
              "#0d0887"
             ],
             [
              0.1111111111111111,
              "#46039f"
             ],
             [
              0.2222222222222222,
              "#7201a8"
             ],
             [
              0.3333333333333333,
              "#9c179e"
             ],
             [
              0.4444444444444444,
              "#bd3786"
             ],
             [
              0.5555555555555556,
              "#d8576b"
             ],
             [
              0.6666666666666666,
              "#ed7953"
             ],
             [
              0.7777777777777778,
              "#fb9f3a"
             ],
             [
              0.8888888888888888,
              "#fdca26"
             ],
             [
              1,
              "#f0f921"
             ]
            ],
            "type": "surface"
           }
          ],
          "table": [
           {
            "cells": {
             "fill": {
              "color": "#EBF0F8"
             },
             "line": {
              "color": "white"
             }
            },
            "header": {
             "fill": {
              "color": "#C8D4E3"
             },
             "line": {
              "color": "white"
             }
            },
            "type": "table"
           }
          ]
         },
         "layout": {
          "annotationdefaults": {
           "arrowcolor": "#2a3f5f",
           "arrowhead": 0,
           "arrowwidth": 1
          },
          "autotypenumbers": "strict",
          "coloraxis": {
           "colorbar": {
            "outlinewidth": 0,
            "ticks": ""
           }
          },
          "colorscale": {
           "diverging": [
            [
             0,
             "#8e0152"
            ],
            [
             0.1,
             "#c51b7d"
            ],
            [
             0.2,
             "#de77ae"
            ],
            [
             0.3,
             "#f1b6da"
            ],
            [
             0.4,
             "#fde0ef"
            ],
            [
             0.5,
             "#f7f7f7"
            ],
            [
             0.6,
             "#e6f5d0"
            ],
            [
             0.7,
             "#b8e186"
            ],
            [
             0.8,
             "#7fbc41"
            ],
            [
             0.9,
             "#4d9221"
            ],
            [
             1,
             "#276419"
            ]
           ],
           "sequential": [
            [
             0,
             "#0d0887"
            ],
            [
             0.1111111111111111,
             "#46039f"
            ],
            [
             0.2222222222222222,
             "#7201a8"
            ],
            [
             0.3333333333333333,
             "#9c179e"
            ],
            [
             0.4444444444444444,
             "#bd3786"
            ],
            [
             0.5555555555555556,
             "#d8576b"
            ],
            [
             0.6666666666666666,
             "#ed7953"
            ],
            [
             0.7777777777777778,
             "#fb9f3a"
            ],
            [
             0.8888888888888888,
             "#fdca26"
            ],
            [
             1,
             "#f0f921"
            ]
           ],
           "sequentialminus": [
            [
             0,
             "#0d0887"
            ],
            [
             0.1111111111111111,
             "#46039f"
            ],
            [
             0.2222222222222222,
             "#7201a8"
            ],
            [
             0.3333333333333333,
             "#9c179e"
            ],
            [
             0.4444444444444444,
             "#bd3786"
            ],
            [
             0.5555555555555556,
             "#d8576b"
            ],
            [
             0.6666666666666666,
             "#ed7953"
            ],
            [
             0.7777777777777778,
             "#fb9f3a"
            ],
            [
             0.8888888888888888,
             "#fdca26"
            ],
            [
             1,
             "#f0f921"
            ]
           ]
          },
          "colorway": [
           "#636efa",
           "#EF553B",
           "#00cc96",
           "#ab63fa",
           "#FFA15A",
           "#19d3f3",
           "#FF6692",
           "#B6E880",
           "#FF97FF",
           "#FECB52"
          ],
          "font": {
           "color": "#2a3f5f"
          },
          "geo": {
           "bgcolor": "white",
           "lakecolor": "white",
           "landcolor": "#E5ECF6",
           "showlakes": true,
           "showland": true,
           "subunitcolor": "white"
          },
          "hoverlabel": {
           "align": "left"
          },
          "hovermode": "closest",
          "mapbox": {
           "style": "light"
          },
          "paper_bgcolor": "white",
          "plot_bgcolor": "#E5ECF6",
          "polar": {
           "angularaxis": {
            "gridcolor": "white",
            "linecolor": "white",
            "ticks": ""
           },
           "bgcolor": "#E5ECF6",
           "radialaxis": {
            "gridcolor": "white",
            "linecolor": "white",
            "ticks": ""
           }
          },
          "scene": {
           "xaxis": {
            "backgroundcolor": "#E5ECF6",
            "gridcolor": "white",
            "gridwidth": 2,
            "linecolor": "white",
            "showbackground": true,
            "ticks": "",
            "zerolinecolor": "white"
           },
           "yaxis": {
            "backgroundcolor": "#E5ECF6",
            "gridcolor": "white",
            "gridwidth": 2,
            "linecolor": "white",
            "showbackground": true,
            "ticks": "",
            "zerolinecolor": "white"
           },
           "zaxis": {
            "backgroundcolor": "#E5ECF6",
            "gridcolor": "white",
            "gridwidth": 2,
            "linecolor": "white",
            "showbackground": true,
            "ticks": "",
            "zerolinecolor": "white"
           }
          },
          "shapedefaults": {
           "line": {
            "color": "#2a3f5f"
           }
          },
          "ternary": {
           "aaxis": {
            "gridcolor": "white",
            "linecolor": "white",
            "ticks": ""
           },
           "baxis": {
            "gridcolor": "white",
            "linecolor": "white",
            "ticks": ""
           },
           "bgcolor": "#E5ECF6",
           "caxis": {
            "gridcolor": "white",
            "linecolor": "white",
            "ticks": ""
           }
          },
          "title": {
           "x": 0.05
          },
          "xaxis": {
           "automargin": true,
           "gridcolor": "white",
           "linecolor": "white",
           "ticks": "",
           "title": {
            "standoff": 15
           },
           "zerolinecolor": "white",
           "zerolinewidth": 2
          },
          "yaxis": {
           "automargin": true,
           "gridcolor": "white",
           "linecolor": "white",
           "ticks": "",
           "title": {
            "standoff": 15
           },
           "zerolinecolor": "white",
           "zerolinewidth": 2
          }
         }
        },
        "title": {
         "text": "Ribbon Chart and Top 3 Target Frequency by Category"
        },
        "xaxis": {
         "anchor": "y",
         "domain": [
          0,
          0.425
         ]
        },
        "xaxis2": {
         "anchor": "y2",
         "domain": [
          0.575,
          1
         ]
        },
        "xaxis3": {
         "anchor": "y3",
         "domain": [
          0,
          0.425
         ]
        },
        "xaxis4": {
         "anchor": "y4",
         "domain": [
          0.575,
          1
         ]
        },
        "yaxis": {
         "anchor": "x",
         "domain": [
          0.575,
          1
         ]
        },
        "yaxis2": {
         "anchor": "x2",
         "domain": [
          0.575,
          1
         ]
        },
        "yaxis3": {
         "anchor": "x3",
         "domain": [
          0,
          0.425
         ]
        },
        "yaxis4": {
         "anchor": "x4",
         "domain": [
          0,
          0.425
         ]
        }
       }
      }
     },
     "metadata": {},
     "output_type": "display_data"
    }
   ],
   "source": [
    "import plotly.graph_objects as go\n",
    "from plotly.subplots import make_subplots\n",
    "import plotly.express as px\n",
    "import pandas as pd\n",
    "\n",
    "# Define consistent color map\n",
    "unique_targets = train[target].unique()\n",
    "color_map = px.colors.qualitative.Plotly\n",
    "target_color_dict = {val: color_map[i % len(color_map)] for i, val in enumerate(unique_targets)}\n",
    "\n",
    "fig = make_subplots(\n",
    "    rows=2, cols=2,\n",
    "    subplot_titles=[\n",
    "        \"Ribbon Chart - Soil Type\", \"Top 3 Count - Soil Type\",\n",
    "        \"Ribbon Chart - Crop Type\", \"Top 3 Count - Crop Type\"\n",
    "    ],\n",
    "    horizontal_spacing=0.15,\n",
    "    vertical_spacing=0.15\n",
    ")\n",
    "\n",
    "for i, cat in enumerate(cat_features):\n",
    "    row = i + 1\n",
    "\n",
    "    freq = train.groupby([cat, target]).size().unstack(fill_value=0)\n",
    "    ranks = freq.rank(axis=1, method='min', ascending=False)\n",
    "    categories = freq.index.tolist()\n",
    "    targets = freq.columns.tolist()\n",
    "\n",
    "    # --- Column 1: Ribbon chart ---\n",
    "    for t in targets:\n",
    "        fig.add_trace(go.Scatter(\n",
    "            x=categories,\n",
    "            y=ranks[t],\n",
    "            mode='lines+markers',\n",
    "            name=t,\n",
    "            line_shape='spline',\n",
    "            line=dict(color=target_color_dict[t]),\n",
    "            legendgroup=t,\n",
    "            showlegend=(i == 0)  # show legend only once (row 1)\n",
    "        ), row=row, col=1)\n",
    "\n",
    "    # Add shaded area (cover exact x-values, ranks 1 to 3)\n",
    "    fig.add_shape(\n",
    "        type=\"rect\",\n",
    "        xref=f\"x{(row-1)*2+1}\",\n",
    "        yref=f\"y{(row-1)*2+1}\",\n",
    "        x0=categories[0],\n",
    "        x1=categories[-1],\n",
    "        y0=1, y1=3,\n",
    "        fillcolor=\"LightGreen\",\n",
    "        opacity=0.3,\n",
    "        layer=\"below\",\n",
    "        line_width=0,\n",
    "        row=row, col=1\n",
    "    )\n",
    "\n",
    "    # --- Column 2: Top 3 Count Bar Chart ---\n",
    "    top3_counts = (ranks <= 3).sum()\n",
    "    count_df = top3_counts.reset_index()\n",
    "    count_df.columns = [target, 'Top3_Count']\n",
    "\n",
    "    for j in range(len(count_df)):\n",
    "        t_val = count_df[target][j]\n",
    "        fig.add_trace(go.Bar(\n",
    "            x=[t_val],\n",
    "            y=[count_df['Top3_Count'][j]],\n",
    "            name=t_val,\n",
    "            marker_color=target_color_dict[t_val],\n",
    "            legendgroup=t_val,\n",
    "            showlegend=False\n",
    "        ), row=row, col=2)\n",
    "\n",
    "# Final layout update\n",
    "\n",
    "\n",
    "fig.update_layout(\n",
    "    height=800,\n",
    "    title_text=\"Ribbon Chart and Top 3 Target Frequency by Category\",\n",
    "    legend=dict(\n",
    "        x=0.47,  # Centered between the two subplots (adjust as needed)\n",
    "        y=0.5,\n",
    "        xanchor=\"center\",\n",
    "        yanchor=\"middle\",\n",
    "        orientation=\"v\",  # Vertical legend\n",
    "        bgcolor=\"rgba(255,255,255,0.8)\",\n",
    "        bordercolor=\"black\",\n",
    "        borderwidth=1\n",
    "    )\n",
    ")\n",
    "\n"
   ]
  }
 ],
 "metadata": {
  "kernelspec": {
   "display_name": "Python 3",
   "language": "python",
   "name": "python3"
  },
  "language_info": {
   "codemirror_mode": {
    "name": "ipython",
    "version": 3
   },
   "file_extension": ".py",
   "mimetype": "text/x-python",
   "name": "python",
   "nbconvert_exporter": "python",
   "pygments_lexer": "ipython3",
   "version": "3.10.11"
  }
 },
 "nbformat": 4,
 "nbformat_minor": 5
}
