{
 "cells": [
  {
   "cell_type": "code",
   "execution_count": 1,
   "id": "34a5a37f",
   "metadata": {},
   "outputs": [
    {
     "data": {
      "application/vnd.microsoft.datawrangler.viewer.v0+json": {
       "columns": [
        {
         "name": "id",
         "rawType": "int64",
         "type": "integer"
        },
        {
         "name": "Temparature",
         "rawType": "int64",
         "type": "integer"
        },
        {
         "name": "Humidity",
         "rawType": "int64",
         "type": "integer"
        },
        {
         "name": "Moisture",
         "rawType": "int64",
         "type": "integer"
        },
        {
         "name": "Soil Type",
         "rawType": "object",
         "type": "string"
        },
        {
         "name": "Crop Type",
         "rawType": "object",
         "type": "string"
        },
        {
         "name": "Nitrogen",
         "rawType": "int64",
         "type": "integer"
        },
        {
         "name": "Potassium",
         "rawType": "int64",
         "type": "integer"
        },
        {
         "name": "Phosphorous",
         "rawType": "int64",
         "type": "integer"
        },
        {
         "name": "Fertilizer Name",
         "rawType": "object",
         "type": "string"
        }
       ],
       "ref": "bf085b10-1d12-47e7-a312-1e9870d1b23a",
       "rows": [
        [
         "0",
         "37",
         "70",
         "36",
         "Clayey",
         "Sugarcane",
         "36",
         "4",
         "5",
         "28-28"
        ],
        [
         "1",
         "27",
         "69",
         "65",
         "Sandy",
         "Millets",
         "30",
         "6",
         "18",
         "28-28"
        ],
        [
         "2",
         "29",
         "63",
         "32",
         "Sandy",
         "Millets",
         "24",
         "12",
         "16",
         "17-17-17"
        ],
        [
         "3",
         "35",
         "62",
         "54",
         "Sandy",
         "Barley",
         "39",
         "12",
         "4",
         "10-26-26"
        ],
        [
         "4",
         "35",
         "58",
         "43",
         "Red",
         "Paddy",
         "37",
         "2",
         "16",
         "DAP"
        ],
        [
         "5",
         "30",
         "59",
         "29",
         "Red",
         "Pulses",
         "10",
         "0",
         "9",
         "20-20"
        ],
        [
         "6",
         "27",
         "62",
         "53",
         "Sandy",
         "Paddy",
         "26",
         "15",
         "22",
         "28-28"
        ],
        [
         "7",
         "36",
         "62",
         "44",
         "Red",
         "Pulses",
         "30",
         "12",
         "35",
         "14-35-14"
        ],
        [
         "8",
         "36",
         "51",
         "32",
         "Loamy",
         "Tobacco",
         "19",
         "17",
         "29",
         "17-17-17"
        ],
        [
         "9",
         "28",
         "50",
         "35",
         "Red",
         "Tobacco",
         "25",
         "12",
         "16",
         "20-20"
        ],
        [
         "10",
         "32",
         "61",
         "60",
         "Loamy",
         "Tobacco",
         "18",
         "3",
         "2",
         "17-17-17"
        ],
        [
         "11",
         "38",
         "60",
         "27",
         "Clayey",
         "Sugarcane",
         "34",
         "19",
         "12",
         "20-20"
        ],
        [
         "12",
         "26",
         "69",
         "42",
         "Sandy",
         "Pulses",
         "42",
         "12",
         "19",
         "10-26-26"
        ],
        [
         "13",
         "30",
         "60",
         "57",
         "Clayey",
         "Millets",
         "41",
         "6",
         "39",
         "10-26-26"
        ],
        [
         "14",
         "36",
         "60",
         "44",
         "Sandy",
         "Paddy",
         "15",
         "3",
         "30",
         "20-20"
        ],
        [
         "15",
         "34",
         "57",
         "47",
         "Black",
         "Barley",
         "18",
         "16",
         "32",
         "10-26-26"
        ],
        [
         "16",
         "30",
         "63",
         "50",
         "Loamy",
         "Ground Nuts",
         "4",
         "1",
         "19",
         "28-28"
        ],
        [
         "17",
         "29",
         "57",
         "56",
         "Red",
         "Maize",
         "8",
         "12",
         "34",
         "14-35-14"
        ],
        [
         "18",
         "27",
         "70",
         "43",
         "Sandy",
         "Millets",
         "19",
         "13",
         "40",
         "17-17-17"
        ],
        [
         "19",
         "25",
         "72",
         "33",
         "Clayey",
         "Millets",
         "6",
         "7",
         "32",
         "20-20"
        ],
        [
         "20",
         "26",
         "63",
         "37",
         "Sandy",
         "Paddy",
         "39",
         "1",
         "28",
         "Urea"
        ],
        [
         "21",
         "26",
         "70",
         "49",
         "Red",
         "Sugarcane",
         "31",
         "9",
         "18",
         "Urea"
        ],
        [
         "22",
         "33",
         "60",
         "60",
         "Red",
         "Sugarcane",
         "29",
         "7",
         "33",
         "10-26-26"
        ],
        [
         "23",
         "30",
         "68",
         "49",
         "Clayey",
         "Cotton",
         "36",
         "16",
         "29",
         "28-28"
        ],
        [
         "24",
         "30",
         "55",
         "53",
         "Sandy",
         "Paddy",
         "20",
         "19",
         "12",
         "28-28"
        ],
        [
         "25",
         "26",
         "68",
         "54",
         "Loamy",
         "Tobacco",
         "41",
         "15",
         "33",
         "20-20"
        ],
        [
         "26",
         "26",
         "52",
         "35",
         "Black",
         "Wheat",
         "28",
         "14",
         "0",
         "20-20"
        ],
        [
         "27",
         "26",
         "55",
         "39",
         "Sandy",
         "Paddy",
         "15",
         "2",
         "7",
         "17-17-17"
        ],
        [
         "28",
         "32",
         "55",
         "30",
         "Loamy",
         "Oil seeds",
         "10",
         "7",
         "13",
         "17-17-17"
        ],
        [
         "29",
         "37",
         "69",
         "57",
         "Clayey",
         "Millets",
         "17",
         "8",
         "24",
         "DAP"
        ],
        [
         "30",
         "27",
         "57",
         "43",
         "Sandy",
         "Maize",
         "8",
         "15",
         "28",
         "20-20"
        ],
        [
         "31",
         "29",
         "60",
         "46",
         "Loamy",
         "Pulses",
         "27",
         "14",
         "21",
         "10-26-26"
        ],
        [
         "32",
         "30",
         "64",
         "37",
         "Clayey",
         "Wheat",
         "10",
         "18",
         "27",
         "20-20"
        ],
        [
         "33",
         "38",
         "55",
         "29",
         "Clayey",
         "Cotton",
         "7",
         "11",
         "40",
         "14-35-14"
        ],
        [
         "34",
         "31",
         "64",
         "61",
         "Black",
         "Oil seeds",
         "15",
         "3",
         "21",
         "14-35-14"
        ],
        [
         "35",
         "27",
         "71",
         "64",
         "Loamy",
         "Tobacco",
         "12",
         "5",
         "2",
         "17-17-17"
        ],
        [
         "36",
         "27",
         "56",
         "26",
         "Black",
         "Cotton",
         "27",
         "5",
         "0",
         "10-26-26"
        ],
        [
         "37",
         "27",
         "50",
         "42",
         "Clayey",
         "Pulses",
         "29",
         "1",
         "5",
         "DAP"
        ],
        [
         "38",
         "32",
         "57",
         "35",
         "Black",
         "Paddy",
         "6",
         "15",
         "21",
         "14-35-14"
        ],
        [
         "39",
         "34",
         "60",
         "32",
         "Clayey",
         "Barley",
         "31",
         "7",
         "17",
         "Urea"
        ],
        [
         "40",
         "29",
         "51",
         "47",
         "Black",
         "Oil seeds",
         "14",
         "3",
         "26",
         "10-26-26"
        ],
        [
         "41",
         "33",
         "51",
         "30",
         "Loamy",
         "Pulses",
         "25",
         "7",
         "1",
         "17-17-17"
        ],
        [
         "42",
         "37",
         "59",
         "34",
         "Clayey",
         "Ground Nuts",
         "39",
         "17",
         "19",
         "14-35-14"
        ],
        [
         "43",
         "37",
         "69",
         "32",
         "Clayey",
         "Tobacco",
         "25",
         "13",
         "19",
         "DAP"
        ],
        [
         "44",
         "26",
         "52",
         "56",
         "Sandy",
         "Paddy",
         "19",
         "14",
         "30",
         "DAP"
        ],
        [
         "45",
         "28",
         "66",
         "33",
         "Clayey",
         "Ground Nuts",
         "26",
         "4",
         "17",
         "17-17-17"
        ],
        [
         "46",
         "25",
         "62",
         "33",
         "Sandy",
         "Maize",
         "35",
         "2",
         "1",
         "28-28"
        ],
        [
         "47",
         "28",
         "54",
         "56",
         "Red",
         "Wheat",
         "33",
         "3",
         "36",
         "17-17-17"
        ],
        [
         "48",
         "31",
         "65",
         "47",
         "Loamy",
         "Wheat",
         "9",
         "17",
         "1",
         "17-17-17"
        ],
        [
         "49",
         "34",
         "67",
         "29",
         "Red",
         "Paddy",
         "25",
         "3",
         "29",
         "10-26-26"
        ]
       ],
       "shape": {
        "columns": 9,
        "rows": 750000
       }
      },
      "text/html": [
       "<div>\n",
       "<style scoped>\n",
       "    .dataframe tbody tr th:only-of-type {\n",
       "        vertical-align: middle;\n",
       "    }\n",
       "\n",
       "    .dataframe tbody tr th {\n",
       "        vertical-align: top;\n",
       "    }\n",
       "\n",
       "    .dataframe thead th {\n",
       "        text-align: right;\n",
       "    }\n",
       "</style>\n",
       "<table border=\"1\" class=\"dataframe\">\n",
       "  <thead>\n",
       "    <tr style=\"text-align: right;\">\n",
       "      <th></th>\n",
       "      <th>Temparature</th>\n",
       "      <th>Humidity</th>\n",
       "      <th>Moisture</th>\n",
       "      <th>Soil Type</th>\n",
       "      <th>Crop Type</th>\n",
       "      <th>Nitrogen</th>\n",
       "      <th>Potassium</th>\n",
       "      <th>Phosphorous</th>\n",
       "      <th>Fertilizer Name</th>\n",
       "    </tr>\n",
       "    <tr>\n",
       "      <th>id</th>\n",
       "      <th></th>\n",
       "      <th></th>\n",
       "      <th></th>\n",
       "      <th></th>\n",
       "      <th></th>\n",
       "      <th></th>\n",
       "      <th></th>\n",
       "      <th></th>\n",
       "      <th></th>\n",
       "    </tr>\n",
       "  </thead>\n",
       "  <tbody>\n",
       "    <tr>\n",
       "      <th>0</th>\n",
       "      <td>37</td>\n",
       "      <td>70</td>\n",
       "      <td>36</td>\n",
       "      <td>Clayey</td>\n",
       "      <td>Sugarcane</td>\n",
       "      <td>36</td>\n",
       "      <td>4</td>\n",
       "      <td>5</td>\n",
       "      <td>28-28</td>\n",
       "    </tr>\n",
       "    <tr>\n",
       "      <th>1</th>\n",
       "      <td>27</td>\n",
       "      <td>69</td>\n",
       "      <td>65</td>\n",
       "      <td>Sandy</td>\n",
       "      <td>Millets</td>\n",
       "      <td>30</td>\n",
       "      <td>6</td>\n",
       "      <td>18</td>\n",
       "      <td>28-28</td>\n",
       "    </tr>\n",
       "    <tr>\n",
       "      <th>2</th>\n",
       "      <td>29</td>\n",
       "      <td>63</td>\n",
       "      <td>32</td>\n",
       "      <td>Sandy</td>\n",
       "      <td>Millets</td>\n",
       "      <td>24</td>\n",
       "      <td>12</td>\n",
       "      <td>16</td>\n",
       "      <td>17-17-17</td>\n",
       "    </tr>\n",
       "    <tr>\n",
       "      <th>3</th>\n",
       "      <td>35</td>\n",
       "      <td>62</td>\n",
       "      <td>54</td>\n",
       "      <td>Sandy</td>\n",
       "      <td>Barley</td>\n",
       "      <td>39</td>\n",
       "      <td>12</td>\n",
       "      <td>4</td>\n",
       "      <td>10-26-26</td>\n",
       "    </tr>\n",
       "    <tr>\n",
       "      <th>4</th>\n",
       "      <td>35</td>\n",
       "      <td>58</td>\n",
       "      <td>43</td>\n",
       "      <td>Red</td>\n",
       "      <td>Paddy</td>\n",
       "      <td>37</td>\n",
       "      <td>2</td>\n",
       "      <td>16</td>\n",
       "      <td>DAP</td>\n",
       "    </tr>\n",
       "    <tr>\n",
       "      <th>...</th>\n",
       "      <td>...</td>\n",
       "      <td>...</td>\n",
       "      <td>...</td>\n",
       "      <td>...</td>\n",
       "      <td>...</td>\n",
       "      <td>...</td>\n",
       "      <td>...</td>\n",
       "      <td>...</td>\n",
       "      <td>...</td>\n",
       "    </tr>\n",
       "    <tr>\n",
       "      <th>749995</th>\n",
       "      <td>25</td>\n",
       "      <td>69</td>\n",
       "      <td>30</td>\n",
       "      <td>Clayey</td>\n",
       "      <td>Maize</td>\n",
       "      <td>8</td>\n",
       "      <td>16</td>\n",
       "      <td>6</td>\n",
       "      <td>28-28</td>\n",
       "    </tr>\n",
       "    <tr>\n",
       "      <th>749996</th>\n",
       "      <td>37</td>\n",
       "      <td>64</td>\n",
       "      <td>58</td>\n",
       "      <td>Loamy</td>\n",
       "      <td>Sugarcane</td>\n",
       "      <td>38</td>\n",
       "      <td>8</td>\n",
       "      <td>20</td>\n",
       "      <td>17-17-17</td>\n",
       "    </tr>\n",
       "    <tr>\n",
       "      <th>749997</th>\n",
       "      <td>35</td>\n",
       "      <td>68</td>\n",
       "      <td>59</td>\n",
       "      <td>Sandy</td>\n",
       "      <td>Ground Nuts</td>\n",
       "      <td>6</td>\n",
       "      <td>11</td>\n",
       "      <td>29</td>\n",
       "      <td>10-26-26</td>\n",
       "    </tr>\n",
       "    <tr>\n",
       "      <th>749998</th>\n",
       "      <td>31</td>\n",
       "      <td>68</td>\n",
       "      <td>29</td>\n",
       "      <td>Red</td>\n",
       "      <td>Cotton</td>\n",
       "      <td>9</td>\n",
       "      <td>11</td>\n",
       "      <td>12</td>\n",
       "      <td>20-20</td>\n",
       "    </tr>\n",
       "    <tr>\n",
       "      <th>749999</th>\n",
       "      <td>33</td>\n",
       "      <td>55</td>\n",
       "      <td>29</td>\n",
       "      <td>Loamy</td>\n",
       "      <td>Cotton</td>\n",
       "      <td>4</td>\n",
       "      <td>10</td>\n",
       "      <td>9</td>\n",
       "      <td>Urea</td>\n",
       "    </tr>\n",
       "  </tbody>\n",
       "</table>\n",
       "<p>750000 rows × 9 columns</p>\n",
       "</div>"
      ],
      "text/plain": [
       "        Temparature  Humidity  Moisture Soil Type    Crop Type  Nitrogen  \\\n",
       "id                                                                         \n",
       "0                37        70        36    Clayey    Sugarcane        36   \n",
       "1                27        69        65     Sandy      Millets        30   \n",
       "2                29        63        32     Sandy      Millets        24   \n",
       "3                35        62        54     Sandy       Barley        39   \n",
       "4                35        58        43       Red        Paddy        37   \n",
       "...             ...       ...       ...       ...          ...       ...   \n",
       "749995           25        69        30    Clayey        Maize         8   \n",
       "749996           37        64        58     Loamy    Sugarcane        38   \n",
       "749997           35        68        59     Sandy  Ground Nuts         6   \n",
       "749998           31        68        29       Red       Cotton         9   \n",
       "749999           33        55        29     Loamy       Cotton         4   \n",
       "\n",
       "        Potassium  Phosphorous Fertilizer Name  \n",
       "id                                              \n",
       "0               4            5           28-28  \n",
       "1               6           18           28-28  \n",
       "2              12           16        17-17-17  \n",
       "3              12            4        10-26-26  \n",
       "4               2           16             DAP  \n",
       "...           ...          ...             ...  \n",
       "749995         16            6           28-28  \n",
       "749996          8           20        17-17-17  \n",
       "749997         11           29        10-26-26  \n",
       "749998         11           12           20-20  \n",
       "749999         10            9            Urea  \n",
       "\n",
       "[750000 rows x 9 columns]"
      ]
     },
     "execution_count": 1,
     "metadata": {},
     "output_type": "execute_result"
    }
   ],
   "source": [
    "import numpy as np\n",
    "import pandas as pd\n",
    "import matplotlib.pyplot as plt\n",
    "import seaborn as sns\n",
    "\n",
    "train = pd.read_csv('train.csv')\n",
    "test = pd.read_csv('test.csv')\n",
    "train = train.set_index('id')\n",
    "train"
   ]
  },
  {
   "cell_type": "code",
   "execution_count": 2,
   "id": "bd701236",
   "metadata": {},
   "outputs": [
    {
     "name": "stdout",
     "output_type": "stream",
     "text": [
      "Train dataset has 750000 rows.\n",
      "Test dataset has 250000 rows.\n"
     ]
    }
   ],
   "source": [
    "print(f\"Train dataset has {train.shape[0]} rows.\")\n",
    "print(f\"Test dataset has {test.shape[0]} rows.\")"
   ]
  },
  {
   "cell_type": "markdown",
   "id": "bcd5a1ae",
   "metadata": {},
   "source": [
    "# Data Visualization:"
   ]
  },
  {
   "cell_type": "code",
   "execution_count": 3,
   "id": "841dca62",
   "metadata": {},
   "outputs": [
    {
     "name": "stdout",
     "output_type": "stream",
     "text": [
      "Numerical features: ['Temparature', 'Humidity', 'Moisture', 'Nitrogen', 'Potassium', 'Phosphorous']\n",
      "Categorical features: ['Soil Type', 'Crop Type']\n",
      "Target column: Fertilizer Name\n"
     ]
    }
   ],
   "source": [
    "target = train.columns[-1]  # Assuming the last column is the target variable\n",
    "num_features = [col for col in train.select_dtypes(exclude='object').columns if col != target]\n",
    "cat_features = [col for col in train.select_dtypes(include='object').columns if col != target]\n",
    "print(\"Numerical features:\", num_features)\n",
    "print(\"Categorical features:\", cat_features)\n",
    "print(\"Target column:\", target)"
   ]
  },
  {
   "cell_type": "markdown",
   "id": "69828c44",
   "metadata": {},
   "source": [
    "## Mutual Information:"
   ]
  },
  {
   "cell_type": "code",
   "execution_count": 5,
   "id": "c7ef29df",
   "metadata": {},
   "outputs": [
    {
     "data": {
      "image/png": "[encoded data removed]",
      "text/plain": [
       "<Figure size 800x600 with 1 Axes>"
      ]
     },
     "metadata": {},
     "output_type": "display_data"
    }
   ],
   "source": [
    "from sklearn.preprocessing import LabelEncoder\n",
    "from sklearn.feature_selection import mutual_info_classif\n",
    "\n",
    "\n",
    "# Copy the original data\n",
    "X = train[num_features + cat_features].copy()\n",
    "\n",
    "# Encode categorical features\n",
    "for col in cat_features:\n",
    "    le = LabelEncoder()\n",
    "    X[col] = le.fit_transform(X[col].astype(str))\n",
    "\n",
    "# Target\n",
    "y = train[target]\n",
    "\n",
    "# Build discrete_features mask (True for categorical columns)\n",
    "discrete_mask = [col in cat_features for col in X.columns]\n",
    "\n",
    "# Calculate mutual information\n",
    "mi_scores = mutual_info_classif(X, y, discrete_features=discrete_mask, random_state=0)\n",
    "\n",
    "# Sort and plot\n",
    "import seaborn as sns\n",
    "import matplotlib.pyplot as plt\n",
    "import pandas as pd\n",
    "\n",
    "mi_df = pd.Series(mi_scores, index=X.columns).sort_values(ascending=True)\n",
    "\n",
    "plt.figure(figsize=(8, 6))\n",
    "sns.barplot(x=mi_df.values, y=mi_df.index, orient='h')\n",
    "plt.title('Mutual Information between Features and Target')\n",
    "plt.xlabel('Mutual Information Score')\n",
    "plt.ylabel('Feature')\n",
    "plt.tight_layout()\n",
    "plt.show()\n"
   ]
  },
  {
   "cell_type": "markdown",
   "id": "82111b29",
   "metadata": {},
   "source": [
    "## Categorical Features:"
   ]
  },
  {
   "cell_type": "code",
   "execution_count": 8,
   "id": "67118499",
   "metadata": {},
   "outputs": [
    {
     "data": {
      "image/png": "[encoded data removed]",
      "text/plain": [
       "<Figure size 2100x600 with 4 Axes>"
      ]
     },
     "metadata": {},
     "output_type": "display_data"
    }
   ],
   "source": [
    "fig, axes = plt.subplots(1, 3, figsize=(21, 6))\n",
    "\n",
    "# Pie charts for categorical features\n",
    "for i, col in enumerate(cat_features):\n",
    "    value_counts = train[col].value_counts()\n",
    "    axes[i].pie(value_counts, labels=value_counts.index, autopct='%1.1f%%', startangle=140)\n",
    "    axes[i].set_title(f'Pie Chart of {col}')\n",
    "    axes[i].axis('equal')\n",
    "\n",
    "cross_tab = pd.crosstab(train[cat_features[0]], train[cat_features[1]])\n",
    "\n",
    "# Heatmap for relationship between two categorical features\n",
    "sns.heatmap(cross_tab, ax=axes[2], cmap='YlGnBu', cbar=True)\n",
    "axes[2].set_title(f'{cat_features[0]} vs {cat_features[1]} (Heatmap)')\n",
    "axes[2].set_xlabel(cat_features[1])\n",
    "axes[2].set_ylabel(cat_features[0])\n",
    "\n",
    "plt.tight_layout()\n",
    "plt.show()\n"
   ]
  },
  {
   "cell_type": "markdown",
   "id": "c83d07b7",
   "metadata": {},
   "source": [
    "## Numerical Features:"
   ]
  },
  {
   "cell_type": "code",
   "execution_count": 9,
   "id": "7e03fd02",
   "metadata": {},
   "outputs": [
    {
     "data": {
      "image/png": "[encoded data removed]",
      "text/plain": [
       "<Figure size 800x600 with 2 Axes>"
      ]
     },
     "metadata": {},
     "output_type": "display_data"
    }
   ],
   "source": [
    "# Compute Pearson correlation for numerical features\n",
    "pearson_corr = train[num_features].corr(method='pearson')\n",
    "\n",
    "fig_corr, ax_corr = plt.subplots(figsize=(8, 6))\n",
    "\n",
    "# Mask for the lower triangle\n",
    "mask = np.triu(np.ones_like(pearson_corr, dtype=bool))\n",
    "\n",
    "sns.heatmap(pearson_corr, annot=True, cmap='coolwarm', mask=mask, ax=ax_corr, vmin=0, vmax=1)\n",
    "ax_corr.set_title('Pearson Correlation Heatmap (Upper Triangle Only)')\n",
    "\n",
    "plt.tight_layout()\n",
    "plt.show()"
   ]
  },
  {
   "cell_type": "code",
   "execution_count": 28,
   "id": "3924d630",
   "metadata": {},
   "outputs": [
    {
     "data": {
      "application/vnd.microsoft.datawrangler.viewer.v0+json": {
       "columns": [
        {
         "name": "id",
         "rawType": "int64",
         "type": "integer"
        },
        {
         "name": "Temparature",
         "rawType": "int64",
         "type": "integer"
        },
        {
         "name": "Humidity",
         "rawType": "int64",
         "type": "integer"
        },
        {
         "name": "Moisture",
         "rawType": "int64",
         "type": "integer"
        },
        {
         "name": "Soil Type",
         "rawType": "object",
         "type": "string"
        },
        {
         "name": "Crop Type",
         "rawType": "object",
         "type": "string"
        },
        {
         "name": "Nitrogen",
         "rawType": "int64",
         "type": "integer"
        },
        {
         "name": "Potassium",
         "rawType": "int64",
         "type": "integer"
        },
        {
         "name": "Phosphorous",
         "rawType": "int64",
         "type": "integer"
        },
        {
         "name": "Fertilizer Name",
         "rawType": "object",
         "type": "string"
        },
        {
         "name": "NPK",
         "rawType": "int64",
         "type": "integer"
        },
        {
         "name": "Nitrogen_pct",
         "rawType": "float64",
         "type": "float"
        },
        {
         "name": "Potassium_pct",
         "rawType": "float64",
         "type": "float"
        },
        {
         "name": "Phosphorous_pct",
         "rawType": "float64",
         "type": "float"
        }
       ],
       "ref": "88009b36-8d68-42e5-ae33-1bf634ef35cc",
       "rows": [
        [
         "0",
         "37",
         "70",
         "36",
         "Clayey",
         "Sugarcane",
         "36",
         "4",
         "5",
         "28-28",
         "45",
         "80.0",
         "8.88888888888889",
         "11.11111111111111"
        ],
        [
         "1",
         "27",
         "69",
         "65",
         "Sandy",
         "Millets",
         "30",
         "6",
         "18",
         "28-28",
         "54",
         "55.55555555555556",
         "11.11111111111111",
         "33.33333333333333"
        ],
        [
         "2",
         "29",
         "63",
         "32",
         "Sandy",
         "Millets",
         "24",
         "12",
         "16",
         "17-17-17",
         "52",
         "46.15384615384615",
         "23.076923076923077",
         "30.76923076923077"
        ],
        [
         "3",
         "35",
         "62",
         "54",
         "Sandy",
         "Barley",
         "39",
         "12",
         "4",
         "10-26-26",
         "55",
         "70.9090909090909",
         "21.818181818181817",
         "7.2727272727272725"
        ],
        [
         "4",
         "35",
         "58",
         "43",
         "Red",
         "Paddy",
         "37",
         "2",
         "16",
         "DAP",
         "55",
         "67.27272727272727",
         "3.6363636363636362",
         "29.09090909090909"
        ]
       ],
       "shape": {
        "columns": 13,
        "rows": 5
       }
      },
      "text/html": [
       "<div>\n",
       "<style scoped>\n",
       "    .dataframe tbody tr th:only-of-type {\n",
       "        vertical-align: middle;\n",
       "    }\n",
       "\n",
       "    .dataframe tbody tr th {\n",
       "        vertical-align: top;\n",
       "    }\n",
       "\n",
       "    .dataframe thead th {\n",
       "        text-align: right;\n",
       "    }\n",
       "</style>\n",
       "<table border=\"1\" class=\"dataframe\">\n",
       "  <thead>\n",
       "    <tr style=\"text-align: right;\">\n",
       "      <th></th>\n",
       "      <th>Temparature</th>\n",
       "      <th>Humidity</th>\n",
       "      <th>Moisture</th>\n",
       "      <th>Soil Type</th>\n",
       "      <th>Crop Type</th>\n",
       "      <th>Nitrogen</th>\n",
       "      <th>Potassium</th>\n",
       "      <th>Phosphorous</th>\n",
       "      <th>Fertilizer Name</th>\n",
       "      <th>NPK</th>\n",
       "      <th>Nitrogen_pct</th>\n",
       "      <th>Potassium_pct</th>\n",
       "      <th>Phosphorous_pct</th>\n",
       "    </tr>\n",
       "    <tr>\n",
       "      <th>id</th>\n",
       "      <th></th>\n",
       "      <th></th>\n",
       "      <th></th>\n",
       "      <th></th>\n",
       "      <th></th>\n",
       "      <th></th>\n",
       "      <th></th>\n",
       "      <th></th>\n",
       "      <th></th>\n",
       "      <th></th>\n",
       "      <th></th>\n",
       "      <th></th>\n",
       "      <th></th>\n",
       "    </tr>\n",
       "  </thead>\n",
       "  <tbody>\n",
       "    <tr>\n",
       "      <th>0</th>\n",
       "      <td>37</td>\n",
       "      <td>70</td>\n",
       "      <td>36</td>\n",
       "      <td>Clayey</td>\n",
       "      <td>Sugarcane</td>\n",
       "      <td>36</td>\n",
       "      <td>4</td>\n",
       "      <td>5</td>\n",
       "      <td>28-28</td>\n",
       "      <td>45</td>\n",
       "      <td>80.000000</td>\n",
       "      <td>8.888889</td>\n",
       "      <td>11.111111</td>\n",
       "    </tr>\n",
       "    <tr>\n",
       "      <th>1</th>\n",
       "      <td>27</td>\n",
       "      <td>69</td>\n",
       "      <td>65</td>\n",
       "      <td>Sandy</td>\n",
       "      <td>Millets</td>\n",
       "      <td>30</td>\n",
       "      <td>6</td>\n",
       "      <td>18</td>\n",
       "      <td>28-28</td>\n",
       "      <td>54</td>\n",
       "      <td>55.555556</td>\n",
       "      <td>11.111111</td>\n",
       "      <td>33.333333</td>\n",
       "    </tr>\n",
       "    <tr>\n",
       "      <th>2</th>\n",
       "      <td>29</td>\n",
       "      <td>63</td>\n",
       "      <td>32</td>\n",
       "      <td>Sandy</td>\n",
       "      <td>Millets</td>\n",
       "      <td>24</td>\n",
       "      <td>12</td>\n",
       "      <td>16</td>\n",
       "      <td>17-17-17</td>\n",
       "      <td>52</td>\n",
       "      <td>46.153846</td>\n",
       "      <td>23.076923</td>\n",
       "      <td>30.769231</td>\n",
       "    </tr>\n",
       "    <tr>\n",
       "      <th>3</th>\n",
       "      <td>35</td>\n",
       "      <td>62</td>\n",
       "      <td>54</td>\n",
       "      <td>Sandy</td>\n",
       "      <td>Barley</td>\n",
       "      <td>39</td>\n",
       "      <td>12</td>\n",
       "      <td>4</td>\n",
       "      <td>10-26-26</td>\n",
       "      <td>55</td>\n",
       "      <td>70.909091</td>\n",
       "      <td>21.818182</td>\n",
       "      <td>7.272727</td>\n",
       "    </tr>\n",
       "    <tr>\n",
       "      <th>4</th>\n",
       "      <td>35</td>\n",
       "      <td>58</td>\n",
       "      <td>43</td>\n",
       "      <td>Red</td>\n",
       "      <td>Paddy</td>\n",
       "      <td>37</td>\n",
       "      <td>2</td>\n",
       "      <td>16</td>\n",
       "      <td>DAP</td>\n",
       "      <td>55</td>\n",
       "      <td>67.272727</td>\n",
       "      <td>3.636364</td>\n",
       "      <td>29.090909</td>\n",
       "    </tr>\n",
       "  </tbody>\n",
       "</table>\n",
       "</div>"
      ],
      "text/plain": [
       "    Temparature  Humidity  Moisture Soil Type  Crop Type  Nitrogen  Potassium  \\\n",
       "id                                                                              \n",
       "0            37        70        36    Clayey  Sugarcane        36          4   \n",
       "1            27        69        65     Sandy    Millets        30          6   \n",
       "2            29        63        32     Sandy    Millets        24         12   \n",
       "3            35        62        54     Sandy     Barley        39         12   \n",
       "4            35        58        43       Red      Paddy        37          2   \n",
       "\n",
       "    Phosphorous Fertilizer Name  NPK  Nitrogen_pct  Potassium_pct  \\\n",
       "id                                                                  \n",
       "0             5           28-28   45     80.000000       8.888889   \n",
       "1            18           28-28   54     55.555556      11.111111   \n",
       "2            16        17-17-17   52     46.153846      23.076923   \n",
       "3             4        10-26-26   55     70.909091      21.818182   \n",
       "4            16             DAP   55     67.272727       3.636364   \n",
       "\n",
       "    Phosphorous_pct  \n",
       "id                   \n",
       "0         11.111111  \n",
       "1         33.333333  \n",
       "2         30.769231  \n",
       "3          7.272727  \n",
       "4         29.090909  "
      ]
     },
     "execution_count": 28,
     "metadata": {},
     "output_type": "execute_result"
    }
   ],
   "source": [
    "def add_npk_and_percentages(df, num_features):\n",
    "    # Sum the last 3 columns in num_features to create NPK\n",
    "    last3 = num_features[-3:]\n",
    "    df['NPK'] = df[last3].sum(axis=1)\n",
    "    # Calculate percentage for each last 3 column\n",
    "    for col in last3:\n",
    "        df[f'{col}_pct'] = df[col] / df['NPK'] * 100\n",
    "    return df\n",
    "\n",
    "# Example usage:\n",
    "train = add_npk_and_percentages(train, num_features)\n",
    "train.head()"
   ]
  },
  {
   "cell_type": "code",
   "execution_count": null,
   "id": "57d98231",
   "metadata": {},
   "outputs": [],
   "source": []
  },
  {
   "cell_type": "code",
   "execution_count": 31,
   "id": "b1b91a14",
   "metadata": {},
   "outputs": [
    {
     "data": {
      "text/plain": [
       "array(['28-28', '17-17-17', '10-26-26', 'DAP', '20-20', '14-35-14',\n",
       "       'Urea'], dtype=object)"
      ]
     },
     "execution_count": 31,
     "metadata": {},
     "output_type": "execute_result"
    }
   ],
   "source": [
    "train['Fertilizer Name'].unique()"
   ]
  },
  {
   "cell_type": "code",
   "execution_count": null,
   "id": "bc2a78da",
   "metadata": {},
   "outputs": [],
   "source": []
  }
 ],
 "metadata": {
  "kernelspec": {
   "display_name": "Python 3",
   "language": "python",
   "name": "python3"
  },
  "language_info": {
   "codemirror_mode": {
    "name": "ipython",
    "version": 3
   },
   "file_extension": ".py",
   "mimetype": "text/x-python",
   "name": "python",
   "nbconvert_exporter": "python",
   "pygments_lexer": "ipython3",
   "version": "3.10.11"
  }
 },
 "nbformat": 4,
 "nbformat_minor": 5
}
